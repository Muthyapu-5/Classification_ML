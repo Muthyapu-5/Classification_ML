{
 "cells": [
  {
   "cell_type": "markdown",
   "metadata": {},
   "source": [
    "# Task - 4\n",
    "\n",
    "\n",
    "\n",
    "## **Task has been mentioned at the end of this notebook**  "
   ]
  },
  {
   "cell_type": "markdown",
   "metadata": {},
   "source": [
    "## 1. Basic Pandas Operations"
   ]
  },
  {
   "cell_type": "code",
   "execution_count": 1,
   "metadata": {},
   "outputs": [],
   "source": [
    "# Import all the required Libraries\n",
    "\n",
    "import pandas as pd\n",
    "import numpy as np\n",
    "\n",
    "import seaborn as sns\n",
    "import matplotlib.pyplot as plt"
   ]
  },
  {
   "cell_type": "code",
   "execution_count": 2,
   "metadata": {
    "scrolled": true
   },
   "outputs": [
    {
     "data": {
      "text/html": [
       "<div>\n",
       "<style scoped>\n",
       "    .dataframe tbody tr th:only-of-type {\n",
       "        vertical-align: middle;\n",
       "    }\n",
       "\n",
       "    .dataframe tbody tr th {\n",
       "        vertical-align: top;\n",
       "    }\n",
       "\n",
       "    .dataframe thead th {\n",
       "        text-align: right;\n",
       "    }\n",
       "</style>\n",
       "<table border=\"1\" class=\"dataframe\">\n",
       "  <thead>\n",
       "    <tr style=\"text-align: right;\">\n",
       "      <th></th>\n",
       "      <th>Unnamed: 0</th>\n",
       "      <th>ID</th>\n",
       "      <th>City_Code</th>\n",
       "      <th>Region_Code</th>\n",
       "      <th>Accomodation_Type</th>\n",
       "      <th>Reco_Insurance_Type</th>\n",
       "      <th>Upper_Age</th>\n",
       "      <th>Lower_Age</th>\n",
       "      <th>Is_Spouse</th>\n",
       "      <th>Health Indicator</th>\n",
       "      <th>Holding_Policy_Duration</th>\n",
       "      <th>Holding_Policy_Type</th>\n",
       "      <th>Reco_Policy_Cat</th>\n",
       "      <th>Reco_Policy_Premium</th>\n",
       "      <th>Response</th>\n",
       "    </tr>\n",
       "  </thead>\n",
       "  <tbody>\n",
       "    <tr>\n",
       "      <th>0</th>\n",
       "      <td>27385</td>\n",
       "      <td>27386</td>\n",
       "      <td>C3</td>\n",
       "      <td>64</td>\n",
       "      <td>Owned</td>\n",
       "      <td>Individual</td>\n",
       "      <td>36</td>\n",
       "      <td>36</td>\n",
       "      <td>No</td>\n",
       "      <td>X1</td>\n",
       "      <td>14+</td>\n",
       "      <td>2.0</td>\n",
       "      <td>16</td>\n",
       "      <td>13320.0</td>\n",
       "      <td>0</td>\n",
       "    </tr>\n",
       "    <tr>\n",
       "      <th>1</th>\n",
       "      <td>33499</td>\n",
       "      <td>33500</td>\n",
       "      <td>C3</td>\n",
       "      <td>2955</td>\n",
       "      <td>Owned</td>\n",
       "      <td>Individual</td>\n",
       "      <td>66</td>\n",
       "      <td>66</td>\n",
       "      <td>No</td>\n",
       "      <td>X6</td>\n",
       "      <td>10</td>\n",
       "      <td>1.0</td>\n",
       "      <td>19</td>\n",
       "      <td>16152.0</td>\n",
       "      <td>0</td>\n",
       "    </tr>\n",
       "    <tr>\n",
       "      <th>2</th>\n",
       "      <td>7997</td>\n",
       "      <td>7998</td>\n",
       "      <td>C1</td>\n",
       "      <td>1542</td>\n",
       "      <td>Rented</td>\n",
       "      <td>Individual</td>\n",
       "      <td>24</td>\n",
       "      <td>24</td>\n",
       "      <td>No</td>\n",
       "      <td>NaN</td>\n",
       "      <td>3</td>\n",
       "      <td>1.0</td>\n",
       "      <td>16</td>\n",
       "      <td>7310.0</td>\n",
       "      <td>0</td>\n",
       "    </tr>\n",
       "    <tr>\n",
       "      <th>3</th>\n",
       "      <td>33032</td>\n",
       "      <td>33033</td>\n",
       "      <td>C26</td>\n",
       "      <td>772</td>\n",
       "      <td>Rented</td>\n",
       "      <td>Individual</td>\n",
       "      <td>75</td>\n",
       "      <td>75</td>\n",
       "      <td>No</td>\n",
       "      <td>X1</td>\n",
       "      <td>1</td>\n",
       "      <td>3.0</td>\n",
       "      <td>16</td>\n",
       "      <td>15792.0</td>\n",
       "      <td>0</td>\n",
       "    </tr>\n",
       "    <tr>\n",
       "      <th>4</th>\n",
       "      <td>30516</td>\n",
       "      <td>30517</td>\n",
       "      <td>C2</td>\n",
       "      <td>1510</td>\n",
       "      <td>Owned</td>\n",
       "      <td>Joint</td>\n",
       "      <td>59</td>\n",
       "      <td>58</td>\n",
       "      <td>Yes</td>\n",
       "      <td>X1</td>\n",
       "      <td>14+</td>\n",
       "      <td>4.0</td>\n",
       "      <td>17</td>\n",
       "      <td>23673.0</td>\n",
       "      <td>0</td>\n",
       "    </tr>\n",
       "  </tbody>\n",
       "</table>\n",
       "</div>"
      ],
      "text/plain": [
       "   Unnamed: 0     ID City_Code  Region_Code Accomodation_Type  \\\n",
       "0       27385  27386        C3           64             Owned   \n",
       "1       33499  33500        C3         2955             Owned   \n",
       "2        7997   7998        C1         1542            Rented   \n",
       "3       33032  33033       C26          772            Rented   \n",
       "4       30516  30517        C2         1510             Owned   \n",
       "\n",
       "  Reco_Insurance_Type  Upper_Age  Lower_Age Is_Spouse Health Indicator  \\\n",
       "0          Individual         36         36        No               X1   \n",
       "1          Individual         66         66        No               X6   \n",
       "2          Individual         24         24        No              NaN   \n",
       "3          Individual         75         75        No               X1   \n",
       "4               Joint         59         58       Yes               X1   \n",
       "\n",
       "  Holding_Policy_Duration  Holding_Policy_Type  Reco_Policy_Cat  \\\n",
       "0                     14+                  2.0               16   \n",
       "1                      10                  1.0               19   \n",
       "2                       3                  1.0               16   \n",
       "3                       1                  3.0               16   \n",
       "4                     14+                  4.0               17   \n",
       "\n",
       "   Reco_Policy_Premium  Response  \n",
       "0              13320.0         0  \n",
       "1              16152.0         0  \n",
       "2               7310.0         0  \n",
       "3              15792.0         0  \n",
       "4              23673.0         0  "
      ]
     },
     "execution_count": 2,
     "metadata": {},
     "output_type": "execute_result"
    }
   ],
   "source": [
    "# Read the dataset and display the head. You will get the output as mentioned below\n",
    "\n",
    "# ______________________________\n",
    "# ______________________________\n",
    "\n",
    "data = pd.read_csv('train.csv')\n",
    "data.head(5)"
   ]
  },
  {
   "cell_type": "code",
   "execution_count": 3,
   "metadata": {},
   "outputs": [
    {
     "data": {
      "text/plain": [
       "(10000, 15)"
      ]
     },
     "execution_count": 3,
     "metadata": {},
     "output_type": "execute_result"
    }
   ],
   "source": [
    "# Check the shape of the dataframe\n",
    "\n",
    "# ______________________________\n",
    "# ______________________________\n",
    "\n",
    "data.shape"
   ]
  },
  {
   "cell_type": "code",
   "execution_count": 4,
   "metadata": {},
   "outputs": [
    {
     "name": "stdout",
     "output_type": "stream",
     "text": [
      "<class 'pandas.core.frame.DataFrame'>\n",
      "RangeIndex: 10000 entries, 0 to 9999\n",
      "Data columns (total 15 columns):\n",
      " #   Column                   Non-Null Count  Dtype  \n",
      "---  ------                   --------------  -----  \n",
      " 0   Unnamed: 0               10000 non-null  int64  \n",
      " 1   ID                       10000 non-null  int64  \n",
      " 2   City_Code                10000 non-null  object \n",
      " 3   Region_Code              10000 non-null  int64  \n",
      " 4   Accomodation_Type        10000 non-null  object \n",
      " 5   Reco_Insurance_Type      10000 non-null  object \n",
      " 6   Upper_Age                10000 non-null  int64  \n",
      " 7   Lower_Age                10000 non-null  int64  \n",
      " 8   Is_Spouse                10000 non-null  object \n",
      " 9   Health Indicator         7671 non-null   object \n",
      " 10  Holding_Policy_Duration  5946 non-null   object \n",
      " 11  Holding_Policy_Type      5946 non-null   float64\n",
      " 12  Reco_Policy_Cat          10000 non-null  int64  \n",
      " 13  Reco_Policy_Premium      10000 non-null  float64\n",
      " 14  Response                 10000 non-null  int64  \n",
      "dtypes: float64(2), int64(7), object(6)\n",
      "memory usage: 1.1+ MB\n"
     ]
    }
   ],
   "source": [
    "# On the dataframe apply info() function and observe the Dtypes and Missing Values\n",
    "\n",
    "# ______________________________\n",
    "# ______________________________\n",
    "\n",
    "data.info()"
   ]
  },
  {
   "cell_type": "code",
   "execution_count": 5,
   "metadata": {},
   "outputs": [
    {
     "data": {
      "text/plain": [
       "Unnamed: 0                    0\n",
       "ID                            0\n",
       "City_Code                     0\n",
       "Region_Code                   0\n",
       "Accomodation_Type             0\n",
       "Reco_Insurance_Type           0\n",
       "Upper_Age                     0\n",
       "Lower_Age                     0\n",
       "Is_Spouse                     0\n",
       "Health Indicator           2329\n",
       "Holding_Policy_Duration    4054\n",
       "Holding_Policy_Type        4054\n",
       "Reco_Policy_Cat               0\n",
       "Reco_Policy_Premium           0\n",
       "Response                      0\n",
       "dtype: int64"
      ]
     },
     "execution_count": 5,
     "metadata": {},
     "output_type": "execute_result"
    }
   ],
   "source": [
    "data.isnull().sum()"
   ]
  },
  {
   "cell_type": "markdown",
   "metadata": {},
   "source": [
    "## 2. Cleaning the Data"
   ]
  },
  {
   "cell_type": "code",
   "execution_count": 6,
   "metadata": {},
   "outputs": [
    {
     "data": {
      "text/plain": [
       "X1    2559\n",
       "X2    2028\n",
       "X3    1344\n",
       "X4    1090\n",
       "X5     343\n",
       "X6     248\n",
       "X7      34\n",
       "X8      13\n",
       "X9      12\n",
       "Name: Health Indicator, dtype: int64"
      ]
     },
     "execution_count": 6,
     "metadata": {},
     "output_type": "execute_result"
    }
   ],
   "source": [
    "data['Health Indicator'].value_counts()  "
   ]
  },
  {
   "cell_type": "code",
   "execution_count": 7,
   "metadata": {},
   "outputs": [
    {
     "data": {
      "text/plain": [
       "14+    898\n",
       "1      867\n",
       "2      790\n",
       "3      696\n",
       "4      530\n",
       "5      461\n",
       "6      374\n",
       "7      320\n",
       "8      254\n",
       "9      205\n",
       "10     166\n",
       "12     104\n",
       "13     103\n",
       "11      89\n",
       "14      89\n",
       "Name: Holding_Policy_Duration, dtype: int64"
      ]
     },
     "execution_count": 7,
     "metadata": {},
     "output_type": "execute_result"
    }
   ],
   "source": [
    "data['Holding_Policy_Duration'].value_counts()"
   ]
  },
  {
   "cell_type": "code",
   "execution_count": 8,
   "metadata": {},
   "outputs": [
    {
     "data": {
      "text/plain": [
       "3.0    2573\n",
       "1.0    1602\n",
       "2.0     973\n",
       "4.0     798\n",
       "Name: Holding_Policy_Type, dtype: int64"
      ]
     },
     "execution_count": 8,
     "metadata": {},
     "output_type": "execute_result"
    }
   ],
   "source": [
    "data['Holding_Policy_Type'].value_counts()"
   ]
  },
  {
   "cell_type": "code",
   "execution_count": 9,
   "metadata": {},
   "outputs": [],
   "source": [
    "# Impute the Null values in Health Indicator, Holding_Policy_Duration and Holding_Policy_Type\n",
    "\n",
    "# -> if categrical :  Fill  \"Mode\"\n",
    "# -> in  Neumerical : \"Median\" Always (because the mean will not be affected by the median)\n",
    "\n",
    "  \n",
    "data['Health Indicator'].fillna('X1',inplace=True)\n",
    "\n",
    "# Holding_Policy_Duration\n",
    "\n",
    "data['Holding_Policy_Duration'].replace('14+','15',inplace=True)\n",
    "data['Holding_Policy_Duration'].fillna('15',inplace=True)\n",
    "\n",
    "# Holding_Policy_Type\n",
    "\n",
    "data['Holding_Policy_Type'].fillna(3.0,inplace=True)\n"
   ]
  },
  {
   "cell_type": "code",
   "execution_count": 10,
   "metadata": {},
   "outputs": [
    {
     "data": {
      "text/plain": [
       "Unnamed: 0                 0\n",
       "ID                         0\n",
       "City_Code                  0\n",
       "Region_Code                0\n",
       "Accomodation_Type          0\n",
       "Reco_Insurance_Type        0\n",
       "Upper_Age                  0\n",
       "Lower_Age                  0\n",
       "Is_Spouse                  0\n",
       "Health Indicator           0\n",
       "Holding_Policy_Duration    0\n",
       "Holding_Policy_Type        0\n",
       "Reco_Policy_Cat            0\n",
       "Reco_Policy_Premium        0\n",
       "Response                   0\n",
       "dtype: int64"
      ]
     },
     "execution_count": 10,
     "metadata": {},
     "output_type": "execute_result"
    }
   ],
   "source": [
    "data.isnull().sum()"
   ]
  },
  {
   "cell_type": "code",
   "execution_count": 11,
   "metadata": {},
   "outputs": [
    {
     "name": "stdout",
     "output_type": "stream",
     "text": [
      "object\n",
      "\n"
     ]
    },
    {
     "data": {
      "text/plain": [
       "dtype('int64')"
      ]
     },
     "execution_count": 11,
     "metadata": {},
     "output_type": "execute_result"
    }
   ],
   "source": [
    "# Check again Holding_Policy_Duration is in object column convert that into int\n",
    "\n",
    "print(data['Holding_Policy_Duration'].dtype)\n",
    "\n",
    "print('')\n",
    "\n",
    "# Check again Holding_Policy_Duration is in object column convert that into int\n",
    "\n",
    "data['Holding_Policy_Duration'] = data['Holding_Policy_Duration'].astype('int')\n",
    "\n",
    "data['Holding_Policy_Duration'].dtypes"
   ]
  },
  {
   "cell_type": "code",
   "execution_count": 12,
   "metadata": {},
   "outputs": [
    {
     "name": "stdout",
     "output_type": "stream",
     "text": [
      "<class 'pandas.core.frame.DataFrame'>\n",
      "RangeIndex: 10000 entries, 0 to 9999\n",
      "Data columns (total 15 columns):\n",
      " #   Column                   Non-Null Count  Dtype  \n",
      "---  ------                   --------------  -----  \n",
      " 0   Unnamed: 0               10000 non-null  int64  \n",
      " 1   ID                       10000 non-null  int64  \n",
      " 2   City_Code                10000 non-null  object \n",
      " 3   Region_Code              10000 non-null  int64  \n",
      " 4   Accomodation_Type        10000 non-null  object \n",
      " 5   Reco_Insurance_Type      10000 non-null  object \n",
      " 6   Upper_Age                10000 non-null  int64  \n",
      " 7   Lower_Age                10000 non-null  int64  \n",
      " 8   Is_Spouse                10000 non-null  object \n",
      " 9   Health Indicator         10000 non-null  object \n",
      " 10  Holding_Policy_Duration  10000 non-null  int64  \n",
      " 11  Holding_Policy_Type      10000 non-null  float64\n",
      " 12  Reco_Policy_Cat          10000 non-null  int64  \n",
      " 13  Reco_Policy_Premium      10000 non-null  float64\n",
      " 14  Response                 10000 non-null  int64  \n",
      "dtypes: float64(2), int64(8), object(5)\n",
      "memory usage: 1.1+ MB\n"
     ]
    }
   ],
   "source": [
    "data.info()"
   ]
  },
  {
   "cell_type": "code",
   "execution_count": 13,
   "metadata": {},
   "outputs": [
    {
     "name": "stdout",
     "output_type": "stream",
     "text": [
      "Categorical_column : \n",
      "Index(['City_Code', 'Accomodation_Type', 'Reco_Insurance_Type', 'Is_Spouse',\n",
      "       'Health Indicator'],\n",
      "      dtype='object')\n",
      "\n",
      "Numerical_column :\n",
      "Index(['Unnamed: 0', 'ID', 'Region_Code', 'Upper_Age', 'Lower_Age',\n",
      "       'Holding_Policy_Duration', 'Holding_Policy_Type', 'Reco_Policy_Cat',\n",
      "       'Reco_Policy_Premium', 'Response'],\n",
      "      dtype='object')\n"
     ]
    }
   ],
   "source": [
    "Categorical_column = data.columns[(data.dtypes == 'object').values]\n",
    "print('Categorical_column : ')\n",
    "print(Categorical_column)\n",
    "\n",
    "print('')\n",
    "\n",
    "#Numericalcolumns values in the DataFrame\n",
    "Numerical_column = data.columns[(data.dtypes !='object').values]\n",
    "print('Numerical_column :' )\n",
    "print(Numerical_column)"
   ]
  },
  {
   "cell_type": "code",
   "execution_count": 14,
   "metadata": {},
   "outputs": [
    {
     "name": "stdout",
     "output_type": "stream",
     "text": [
      "Number of Unique values in the Column wise\n",
      "City_Code -  36\n",
      "Accomodation_Type -  2\n",
      "Reco_Insurance_Type -  2\n",
      "Is_Spouse -  2\n",
      "Health Indicator -  9\n"
     ]
    }
   ],
   "source": [
    "print(\"Number of Unique values in the Column wise\")\n",
    "for i in Categorical_column:\n",
    "    print(\"\"+str(i)+\" - \",data[''+str(i)+''].nunique())#,data[''+str(i)+''].unique()\n",
    "  "
   ]
  },
  {
   "cell_type": "code",
   "execution_count": 15,
   "metadata": {},
   "outputs": [
    {
     "name": "stdout",
     "output_type": "stream",
     "text": [
      "Owned     5509\n",
      "Rented    4491\n",
      "Name: Accomodation_Type, dtype: int64\n",
      "\n",
      "Individual    7956\n",
      "Joint         2044\n",
      "Name: Reco_Insurance_Type, dtype: int64\n",
      "\n",
      "No     8318\n",
      "Yes    1682\n",
      "Name: Is_Spouse, dtype: int64\n"
     ]
    }
   ],
   "source": [
    "# Observe that ['Accomodation_Type','Reco_Insurance_Type','Is_Spouse'] \n",
    "# above these Object columns have two values - Yes and No\n",
    "\n",
    "print(data['Accomodation_Type'].value_counts())\n",
    "\n",
    "print('')\n",
    "\n",
    "print(data['Reco_Insurance_Type'].value_counts())\n",
    "\n",
    "print('')\n",
    "\n",
    "print(data['Is_Spouse'].value_counts())"
   ]
  },
  {
   "cell_type": "code",
   "execution_count": 16,
   "metadata": {},
   "outputs": [
    {
     "data": {
      "text/plain": [
       "dtype('int64')"
      ]
     },
     "execution_count": 16,
     "metadata": {},
     "output_type": "execute_result"
    }
   ],
   "source": [
    "# Converting all the Yes to 1 and No to 0. \n",
    "\n",
    "\n",
    "\n",
    "# Write a for loop to iterate over the list given above\n",
    "# For each feature use pandas 'apply()' to convert all the 'Yes' to 1 and 'No' to 0\n",
    "\n",
    "\n",
    "# ______________________________\n",
    "# ______________________________\n",
    "    \n",
    "data['Is_Spouse'] = data['Is_Spouse'].apply(lambda x:1 if x=='Yes' else 0)\n",
    "data['Is_Spouse'].dtypes\n"
   ]
  },
  {
   "cell_type": "code",
   "execution_count": 17,
   "metadata": {},
   "outputs": [
    {
     "data": {
      "text/html": [
       "<div>\n",
       "<style scoped>\n",
       "    .dataframe tbody tr th:only-of-type {\n",
       "        vertical-align: middle;\n",
       "    }\n",
       "\n",
       "    .dataframe tbody tr th {\n",
       "        vertical-align: top;\n",
       "    }\n",
       "\n",
       "    .dataframe thead th {\n",
       "        text-align: right;\n",
       "    }\n",
       "</style>\n",
       "<table border=\"1\" class=\"dataframe\">\n",
       "  <thead>\n",
       "    <tr style=\"text-align: right;\">\n",
       "      <th></th>\n",
       "      <th>City_Code</th>\n",
       "      <th>Accomodation_Type</th>\n",
       "      <th>Reco_Insurance_Type</th>\n",
       "      <th>Health Indicator</th>\n",
       "    </tr>\n",
       "  </thead>\n",
       "  <tbody>\n",
       "    <tr>\n",
       "      <th>0</th>\n",
       "      <td>C3</td>\n",
       "      <td>Owned</td>\n",
       "      <td>Individual</td>\n",
       "      <td>X1</td>\n",
       "    </tr>\n",
       "    <tr>\n",
       "      <th>1</th>\n",
       "      <td>C3</td>\n",
       "      <td>Owned</td>\n",
       "      <td>Individual</td>\n",
       "      <td>X6</td>\n",
       "    </tr>\n",
       "    <tr>\n",
       "      <th>2</th>\n",
       "      <td>C1</td>\n",
       "      <td>Rented</td>\n",
       "      <td>Individual</td>\n",
       "      <td>X1</td>\n",
       "    </tr>\n",
       "    <tr>\n",
       "      <th>3</th>\n",
       "      <td>C26</td>\n",
       "      <td>Rented</td>\n",
       "      <td>Individual</td>\n",
       "      <td>X1</td>\n",
       "    </tr>\n",
       "    <tr>\n",
       "      <th>4</th>\n",
       "      <td>C2</td>\n",
       "      <td>Owned</td>\n",
       "      <td>Joint</td>\n",
       "      <td>X1</td>\n",
       "    </tr>\n",
       "    <tr>\n",
       "      <th>...</th>\n",
       "      <td>...</td>\n",
       "      <td>...</td>\n",
       "      <td>...</td>\n",
       "      <td>...</td>\n",
       "    </tr>\n",
       "    <tr>\n",
       "      <th>9995</th>\n",
       "      <td>C3</td>\n",
       "      <td>Owned</td>\n",
       "      <td>Joint</td>\n",
       "      <td>X5</td>\n",
       "    </tr>\n",
       "    <tr>\n",
       "      <th>9996</th>\n",
       "      <td>C5</td>\n",
       "      <td>Rented</td>\n",
       "      <td>Individual</td>\n",
       "      <td>X1</td>\n",
       "    </tr>\n",
       "    <tr>\n",
       "      <th>9997</th>\n",
       "      <td>C1</td>\n",
       "      <td>Owned</td>\n",
       "      <td>Individual</td>\n",
       "      <td>X1</td>\n",
       "    </tr>\n",
       "    <tr>\n",
       "      <th>9998</th>\n",
       "      <td>C1</td>\n",
       "      <td>Rented</td>\n",
       "      <td>Individual</td>\n",
       "      <td>X5</td>\n",
       "    </tr>\n",
       "    <tr>\n",
       "      <th>9999</th>\n",
       "      <td>C7</td>\n",
       "      <td>Owned</td>\n",
       "      <td>Joint</td>\n",
       "      <td>X2</td>\n",
       "    </tr>\n",
       "  </tbody>\n",
       "</table>\n",
       "<p>10000 rows × 4 columns</p>\n",
       "</div>"
      ],
      "text/plain": [
       "     City_Code Accomodation_Type Reco_Insurance_Type Health Indicator\n",
       "0           C3             Owned          Individual               X1\n",
       "1           C3             Owned          Individual               X6\n",
       "2           C1            Rented          Individual               X1\n",
       "3          C26            Rented          Individual               X1\n",
       "4           C2             Owned               Joint               X1\n",
       "...        ...               ...                 ...              ...\n",
       "9995        C3             Owned               Joint               X5\n",
       "9996        C5            Rented          Individual               X1\n",
       "9997        C1             Owned          Individual               X1\n",
       "9998        C1            Rented          Individual               X5\n",
       "9999        C7             Owned               Joint               X2\n",
       "\n",
       "[10000 rows x 4 columns]"
      ]
     },
     "execution_count": 17,
     "metadata": {},
     "output_type": "execute_result"
    }
   ],
   "source": [
    "# Now again having a look at all those columns to see if everything went well\n",
    "\n",
    "data.select_dtypes(include=['object'])"
   ]
  },
  {
   "cell_type": "code",
   "execution_count": 18,
   "metadata": {},
   "outputs": [
    {
     "name": "stdout",
     "output_type": "stream",
     "text": [
      "<class 'pandas.core.frame.DataFrame'>\n",
      "RangeIndex: 10000 entries, 0 to 9999\n",
      "Data columns (total 15 columns):\n",
      " #   Column                   Non-Null Count  Dtype  \n",
      "---  ------                   --------------  -----  \n",
      " 0   Unnamed: 0               10000 non-null  int64  \n",
      " 1   ID                       10000 non-null  int64  \n",
      " 2   City_Code                10000 non-null  object \n",
      " 3   Region_Code              10000 non-null  int64  \n",
      " 4   Accomodation_Type        10000 non-null  object \n",
      " 5   Reco_Insurance_Type      10000 non-null  object \n",
      " 6   Upper_Age                10000 non-null  int64  \n",
      " 7   Lower_Age                10000 non-null  int64  \n",
      " 8   Is_Spouse                10000 non-null  int64  \n",
      " 9   Health Indicator         10000 non-null  object \n",
      " 10  Holding_Policy_Duration  10000 non-null  int64  \n",
      " 11  Holding_Policy_Type      10000 non-null  float64\n",
      " 12  Reco_Policy_Cat          10000 non-null  int64  \n",
      " 13  Reco_Policy_Premium      10000 non-null  float64\n",
      " 14  Response                 10000 non-null  int64  \n",
      "dtypes: float64(2), int64(9), object(4)\n",
      "memory usage: 1.1+ MB\n"
     ]
    }
   ],
   "source": [
    "# Observe that all those columns are now converted from Object to Int64\n",
    "\n",
    "data.info()"
   ]
  },
  {
   "cell_type": "code",
   "execution_count": 19,
   "metadata": {},
   "outputs": [
    {
     "name": "stdout",
     "output_type": "stream",
     "text": [
      "Number of Unique values in the Column wise\n",
      "City_Code -  36\n",
      "Accomodation_Type -  2\n",
      "Reco_Insurance_Type -  2\n",
      "Is_Spouse -  2\n",
      "Health Indicator -  9\n"
     ]
    }
   ],
   "source": [
    "# Checking all the Object Dtypes - Here, these columns have more than 2 categories\n",
    "\n",
    "print(\"Number of Unique values in the Column wise\")\n",
    "for i in Categorical_column:\n",
    "    print(\"\"+str(i)+\" - \",data[''+str(i)+''].nunique())#,data[''+str(i)+''].unique()\n"
   ]
  },
  {
   "cell_type": "code",
   "execution_count": 20,
   "metadata": {},
   "outputs": [
    {
     "data": {
      "text/html": [
       "<div>\n",
       "<style scoped>\n",
       "    .dataframe tbody tr th:only-of-type {\n",
       "        vertical-align: middle;\n",
       "    }\n",
       "\n",
       "    .dataframe tbody tr th {\n",
       "        vertical-align: top;\n",
       "    }\n",
       "\n",
       "    .dataframe thead th {\n",
       "        text-align: right;\n",
       "    }\n",
       "</style>\n",
       "<table border=\"1\" class=\"dataframe\">\n",
       "  <thead>\n",
       "    <tr style=\"text-align: right;\">\n",
       "      <th></th>\n",
       "      <th>City_Code</th>\n",
       "      <th>Accomodation_Type</th>\n",
       "      <th>Reco_Insurance_Type</th>\n",
       "      <th>Health Indicator</th>\n",
       "    </tr>\n",
       "  </thead>\n",
       "  <tbody>\n",
       "    <tr>\n",
       "      <th>0</th>\n",
       "      <td>C3</td>\n",
       "      <td>Owned</td>\n",
       "      <td>Individual</td>\n",
       "      <td>X1</td>\n",
       "    </tr>\n",
       "    <tr>\n",
       "      <th>1</th>\n",
       "      <td>C3</td>\n",
       "      <td>Owned</td>\n",
       "      <td>Individual</td>\n",
       "      <td>X6</td>\n",
       "    </tr>\n",
       "    <tr>\n",
       "      <th>2</th>\n",
       "      <td>C1</td>\n",
       "      <td>Rented</td>\n",
       "      <td>Individual</td>\n",
       "      <td>X1</td>\n",
       "    </tr>\n",
       "    <tr>\n",
       "      <th>3</th>\n",
       "      <td>C26</td>\n",
       "      <td>Rented</td>\n",
       "      <td>Individual</td>\n",
       "      <td>X1</td>\n",
       "    </tr>\n",
       "    <tr>\n",
       "      <th>4</th>\n",
       "      <td>C2</td>\n",
       "      <td>Owned</td>\n",
       "      <td>Joint</td>\n",
       "      <td>X1</td>\n",
       "    </tr>\n",
       "    <tr>\n",
       "      <th>...</th>\n",
       "      <td>...</td>\n",
       "      <td>...</td>\n",
       "      <td>...</td>\n",
       "      <td>...</td>\n",
       "    </tr>\n",
       "    <tr>\n",
       "      <th>9995</th>\n",
       "      <td>C3</td>\n",
       "      <td>Owned</td>\n",
       "      <td>Joint</td>\n",
       "      <td>X5</td>\n",
       "    </tr>\n",
       "    <tr>\n",
       "      <th>9996</th>\n",
       "      <td>C5</td>\n",
       "      <td>Rented</td>\n",
       "      <td>Individual</td>\n",
       "      <td>X1</td>\n",
       "    </tr>\n",
       "    <tr>\n",
       "      <th>9997</th>\n",
       "      <td>C1</td>\n",
       "      <td>Owned</td>\n",
       "      <td>Individual</td>\n",
       "      <td>X1</td>\n",
       "    </tr>\n",
       "    <tr>\n",
       "      <th>9998</th>\n",
       "      <td>C1</td>\n",
       "      <td>Rented</td>\n",
       "      <td>Individual</td>\n",
       "      <td>X5</td>\n",
       "    </tr>\n",
       "    <tr>\n",
       "      <th>9999</th>\n",
       "      <td>C7</td>\n",
       "      <td>Owned</td>\n",
       "      <td>Joint</td>\n",
       "      <td>X2</td>\n",
       "    </tr>\n",
       "  </tbody>\n",
       "</table>\n",
       "<p>10000 rows × 4 columns</p>\n",
       "</div>"
      ],
      "text/plain": [
       "     City_Code Accomodation_Type Reco_Insurance_Type Health Indicator\n",
       "0           C3             Owned          Individual               X1\n",
       "1           C3             Owned          Individual               X6\n",
       "2           C1            Rented          Individual               X1\n",
       "3          C26            Rented          Individual               X1\n",
       "4           C2             Owned               Joint               X1\n",
       "...        ...               ...                 ...              ...\n",
       "9995        C3             Owned               Joint               X5\n",
       "9996        C5            Rented          Individual               X1\n",
       "9997        C1             Owned          Individual               X1\n",
       "9998        C1            Rented          Individual               X5\n",
       "9999        C7             Owned               Joint               X2\n",
       "\n",
       "[10000 rows x 4 columns]"
      ]
     },
     "execution_count": 20,
     "metadata": {},
     "output_type": "execute_result"
    }
   ],
   "source": [
    "# You can also do this to separate Object columns\n",
    "\n",
    "# ____________________________\n",
    "\n",
    "data.select_dtypes(include=['object'])"
   ]
  },
  {
   "cell_type": "code",
   "execution_count": 21,
   "metadata": {},
   "outputs": [
    {
     "data": {
      "text/plain": [
       "0    7541\n",
       "1    2459\n",
       "Name: Response, dtype: int64"
      ]
     },
     "execution_count": 21,
     "metadata": {},
     "output_type": "execute_result"
    }
   ],
   "source": [
    "# Lets just try to see what is happening Response. Check the output.\n",
    "\n",
    "data['Response'].value_counts()"
   ]
  },
  {
   "cell_type": "code",
   "execution_count": 22,
   "metadata": {},
   "outputs": [
    {
     "name": "stdout",
     "output_type": "stream",
     "text": [
      "(10000, 15)\n",
      "\n",
      "(10000, 14)\n"
     ]
    }
   ],
   "source": [
    "print(data.shape)\n",
    "\n",
    "# Dropping unknown column\n",
    "\n",
    "# Write the code here to drop unknown column and check dataframe shape\n",
    "\n",
    "data.drop(['Unnamed: 0'],axis=1,inplace=True)\n",
    "\n",
    "print('')\n",
    "\n",
    "print(data.shape)\n"
   ]
  },
  {
   "cell_type": "code",
   "execution_count": 23,
   "metadata": {},
   "outputs": [
    {
     "name": "stdout",
     "output_type": "stream",
     "text": [
      "<class 'pandas.core.frame.DataFrame'>\n",
      "RangeIndex: 10000 entries, 0 to 9999\n",
      "Data columns (total 14 columns):\n",
      " #   Column                   Non-Null Count  Dtype  \n",
      "---  ------                   --------------  -----  \n",
      " 0   ID                       10000 non-null  int64  \n",
      " 1   City_Code                10000 non-null  object \n",
      " 2   Region_Code              10000 non-null  int64  \n",
      " 3   Accomodation_Type        10000 non-null  object \n",
      " 4   Reco_Insurance_Type      10000 non-null  object \n",
      " 5   Upper_Age                10000 non-null  int64  \n",
      " 6   Lower_Age                10000 non-null  int64  \n",
      " 7   Is_Spouse                10000 non-null  int64  \n",
      " 8   Health Indicator         10000 non-null  object \n",
      " 9   Holding_Policy_Duration  10000 non-null  int64  \n",
      " 10  Holding_Policy_Type      10000 non-null  float64\n",
      " 11  Reco_Policy_Cat          10000 non-null  int64  \n",
      " 12  Reco_Policy_Premium      10000 non-null  float64\n",
      " 13  Response                 10000 non-null  int64  \n",
      "dtypes: float64(2), int64(8), object(4)\n",
      "memory usage: 1.1+ MB\n"
     ]
    }
   ],
   "source": [
    "# Getting all the Object Dtypes\n",
    "\n",
    "data.info()"
   ]
  },
  {
   "cell_type": "code",
   "execution_count": 24,
   "metadata": {},
   "outputs": [
    {
     "name": "stdout",
     "output_type": "stream",
     "text": [
      "Number of Unique values in the Column wise\n",
      "City_Code -  36 ['C3' 'C1' 'C26' 'C2' 'C17' 'C4' 'C16' 'C9' 'C23' 'C21' 'C6' 'C7' 'C11'\n",
      " 'C22' 'C15' 'C13' 'C8' 'C35' 'C29' 'C33' 'C10' 'C12' 'C19' 'C5' 'C18'\n",
      " 'C14' 'C24' 'C27' 'C20' 'C34' 'C36' 'C25' 'C28' 'C32' 'C30' 'C31']\n",
      "\n",
      "Accomodation_Type -  2 ['Owned' 'Rented']\n",
      "\n",
      "Reco_Insurance_Type -  2 ['Individual' 'Joint']\n",
      "\n",
      "Is_Spouse -  2 [0 1]\n",
      "\n",
      "Health Indicator -  9 ['X1' 'X6' 'X4' 'X2' 'X3' 'X5' 'X8' 'X7' 'X9']\n",
      "\n"
     ]
    }
   ],
   "source": [
    "print(\"Number of Unique values in the Column wise\")\n",
    "for i in Categorical_column:\n",
    "    print(\"\"+str(i)+\" - \",data[''+str(i)+''].nunique(),data[''+str(i)+''].unique())\n",
    "    print('')\n",
    "    #print(data[''+str(i)+''].unique())\n",
    "\n"
   ]
  },
  {
   "cell_type": "code",
   "execution_count": 25,
   "metadata": {},
   "outputs": [
    {
     "name": "stdout",
     "output_type": "stream",
     "text": [
      "<class 'pandas.core.frame.DataFrame'>\n",
      "RangeIndex: 10000 entries, 0 to 9999\n",
      "Data columns (total 14 columns):\n",
      " #   Column                   Non-Null Count  Dtype  \n",
      "---  ------                   --------------  -----  \n",
      " 0   ID                       10000 non-null  int64  \n",
      " 1   City_Code                10000 non-null  int64  \n",
      " 2   Region_Code              10000 non-null  int64  \n",
      " 3   Accomodation_Type        10000 non-null  int64  \n",
      " 4   Reco_Insurance_Type      10000 non-null  int64  \n",
      " 5   Upper_Age                10000 non-null  int64  \n",
      " 6   Lower_Age                10000 non-null  int64  \n",
      " 7   Is_Spouse                10000 non-null  int64  \n",
      " 8   Health Indicator         10000 non-null  int64  \n",
      " 9   Holding_Policy_Duration  10000 non-null  int64  \n",
      " 10  Holding_Policy_Type      10000 non-null  float64\n",
      " 11  Reco_Policy_Cat          10000 non-null  int64  \n",
      " 12  Reco_Policy_Premium      10000 non-null  float64\n",
      " 13  Response                 10000 non-null  int64  \n",
      "dtypes: float64(2), int64(12)\n",
      "memory usage: 1.1 MB\n"
     ]
    }
   ],
   "source": [
    "# Encoding the categorical features\n",
    "\n",
    "from sklearn.preprocessing import LabelEncoder\n",
    "LE = LabelEncoder()\n",
    "\n",
    "data['City_Code'] = LE.fit_transform(data['City_Code'])\n",
    "data['Accomodation_Type'] = LE.fit_transform(data['Accomodation_Type'])\n",
    "data['Reco_Insurance_Type'] = LE.fit_transform(data['Reco_Insurance_Type'])\n",
    "data['Health Indicator'] = LE.fit_transform(data['Health Indicator'])\n",
    "\n",
    "# column names are (annoyingly) lost after OneHotEncoding\n",
    "# (i.e. the dataframe is converted to a numpy ndarray)\n",
    "\n",
    "# Write the code here to use 'encoder' to convert all the categorical columns to numerical representations\n",
    "# Take extra care to convert encoded numpy array to dataframe and call that data fram 'df_encoded'\n",
    "\n",
    "# ______________________________\n",
    "# ______________________________\n",
    "\n",
    "data.info()\n"
   ]
  },
  {
   "cell_type": "code",
   "execution_count": 26,
   "metadata": {},
   "outputs": [
    {
     "data": {
      "text/html": [
       "<div>\n",
       "<style scoped>\n",
       "    .dataframe tbody tr th:only-of-type {\n",
       "        vertical-align: middle;\n",
       "    }\n",
       "\n",
       "    .dataframe tbody tr th {\n",
       "        vertical-align: top;\n",
       "    }\n",
       "\n",
       "    .dataframe thead th {\n",
       "        text-align: right;\n",
       "    }\n",
       "</style>\n",
       "<table border=\"1\" class=\"dataframe\">\n",
       "  <thead>\n",
       "    <tr style=\"text-align: right;\">\n",
       "      <th></th>\n",
       "      <th>ID</th>\n",
       "      <th>City_Code</th>\n",
       "      <th>Region_Code</th>\n",
       "      <th>Accomodation_Type</th>\n",
       "      <th>Reco_Insurance_Type</th>\n",
       "      <th>Upper_Age</th>\n",
       "      <th>Lower_Age</th>\n",
       "      <th>Is_Spouse</th>\n",
       "      <th>Health Indicator</th>\n",
       "      <th>Holding_Policy_Duration</th>\n",
       "      <th>Holding_Policy_Type</th>\n",
       "      <th>Reco_Policy_Cat</th>\n",
       "      <th>Reco_Policy_Premium</th>\n",
       "      <th>Response</th>\n",
       "    </tr>\n",
       "  </thead>\n",
       "  <tbody>\n",
       "    <tr>\n",
       "      <th>count</th>\n",
       "      <td>10000.000000</td>\n",
       "      <td>10000.000000</td>\n",
       "      <td>10000.000000</td>\n",
       "      <td>10000.000000</td>\n",
       "      <td>10000.000000</td>\n",
       "      <td>10000.000000</td>\n",
       "      <td>10000.00000</td>\n",
       "      <td>10000.000000</td>\n",
       "      <td>10000.000000</td>\n",
       "      <td>10000.000000</td>\n",
       "      <td>10000.000000</td>\n",
       "      <td>10000.000000</td>\n",
       "      <td>10000.000000</td>\n",
       "      <td>10000.000000</td>\n",
       "    </tr>\n",
       "    <tr>\n",
       "      <th>mean</th>\n",
       "      <td>25514.420300</td>\n",
       "      <td>14.948200</td>\n",
       "      <td>1723.510900</td>\n",
       "      <td>0.449100</td>\n",
       "      <td>0.204400</td>\n",
       "      <td>44.765600</td>\n",
       "      <td>42.65650</td>\n",
       "      <td>0.168200</td>\n",
       "      <td>1.098900</td>\n",
       "      <td>9.807300</td>\n",
       "      <td>2.662100</td>\n",
       "      <td>15.090700</td>\n",
       "      <td>14182.681460</td>\n",
       "      <td>0.245900</td>\n",
       "    </tr>\n",
       "    <tr>\n",
       "      <th>std</th>\n",
       "      <td>14789.327793</td>\n",
       "      <td>12.201328</td>\n",
       "      <td>1416.809648</td>\n",
       "      <td>0.497427</td>\n",
       "      <td>0.403283</td>\n",
       "      <td>17.281705</td>\n",
       "      <td>17.31614</td>\n",
       "      <td>0.374062</td>\n",
       "      <td>1.394888</td>\n",
       "      <td>5.673604</td>\n",
       "      <td>0.838924</td>\n",
       "      <td>6.350237</td>\n",
       "      <td>6538.837384</td>\n",
       "      <td>0.430641</td>\n",
       "    </tr>\n",
       "    <tr>\n",
       "      <th>min</th>\n",
       "      <td>8.000000</td>\n",
       "      <td>0.000000</td>\n",
       "      <td>1.000000</td>\n",
       "      <td>0.000000</td>\n",
       "      <td>0.000000</td>\n",
       "      <td>18.000000</td>\n",
       "      <td>16.00000</td>\n",
       "      <td>0.000000</td>\n",
       "      <td>0.000000</td>\n",
       "      <td>1.000000</td>\n",
       "      <td>1.000000</td>\n",
       "      <td>1.000000</td>\n",
       "      <td>2280.000000</td>\n",
       "      <td>0.000000</td>\n",
       "    </tr>\n",
       "    <tr>\n",
       "      <th>25%</th>\n",
       "      <td>12519.250000</td>\n",
       "      <td>3.000000</td>\n",
       "      <td>517.000000</td>\n",
       "      <td>0.000000</td>\n",
       "      <td>0.000000</td>\n",
       "      <td>28.000000</td>\n",
       "      <td>27.00000</td>\n",
       "      <td>0.000000</td>\n",
       "      <td>0.000000</td>\n",
       "      <td>4.000000</td>\n",
       "      <td>2.000000</td>\n",
       "      <td>12.000000</td>\n",
       "      <td>9278.400000</td>\n",
       "      <td>0.000000</td>\n",
       "    </tr>\n",
       "    <tr>\n",
       "      <th>50%</th>\n",
       "      <td>25512.500000</td>\n",
       "      <td>11.000000</td>\n",
       "      <td>1382.000000</td>\n",
       "      <td>0.000000</td>\n",
       "      <td>0.000000</td>\n",
       "      <td>44.000000</td>\n",
       "      <td>40.00000</td>\n",
       "      <td>0.000000</td>\n",
       "      <td>1.000000</td>\n",
       "      <td>14.000000</td>\n",
       "      <td>3.000000</td>\n",
       "      <td>17.000000</td>\n",
       "      <td>13214.000000</td>\n",
       "      <td>0.000000</td>\n",
       "    </tr>\n",
       "    <tr>\n",
       "      <th>75%</th>\n",
       "      <td>38330.750000</td>\n",
       "      <td>30.000000</td>\n",
       "      <td>2637.000000</td>\n",
       "      <td>1.000000</td>\n",
       "      <td>0.000000</td>\n",
       "      <td>59.000000</td>\n",
       "      <td>57.00000</td>\n",
       "      <td>0.000000</td>\n",
       "      <td>2.000000</td>\n",
       "      <td>15.000000</td>\n",
       "      <td>3.000000</td>\n",
       "      <td>20.000000</td>\n",
       "      <td>18070.000000</td>\n",
       "      <td>0.000000</td>\n",
       "    </tr>\n",
       "    <tr>\n",
       "      <th>max</th>\n",
       "      <td>50874.000000</td>\n",
       "      <td>35.000000</td>\n",
       "      <td>6193.000000</td>\n",
       "      <td>1.000000</td>\n",
       "      <td>1.000000</td>\n",
       "      <td>75.000000</td>\n",
       "      <td>75.00000</td>\n",
       "      <td>1.000000</td>\n",
       "      <td>8.000000</td>\n",
       "      <td>15.000000</td>\n",
       "      <td>4.000000</td>\n",
       "      <td>22.000000</td>\n",
       "      <td>42256.000000</td>\n",
       "      <td>1.000000</td>\n",
       "    </tr>\n",
       "  </tbody>\n",
       "</table>\n",
       "</div>"
      ],
      "text/plain": [
       "                 ID     City_Code   Region_Code  Accomodation_Type  \\\n",
       "count  10000.000000  10000.000000  10000.000000       10000.000000   \n",
       "mean   25514.420300     14.948200   1723.510900           0.449100   \n",
       "std    14789.327793     12.201328   1416.809648           0.497427   \n",
       "min        8.000000      0.000000      1.000000           0.000000   \n",
       "25%    12519.250000      3.000000    517.000000           0.000000   \n",
       "50%    25512.500000     11.000000   1382.000000           0.000000   \n",
       "75%    38330.750000     30.000000   2637.000000           1.000000   \n",
       "max    50874.000000     35.000000   6193.000000           1.000000   \n",
       "\n",
       "       Reco_Insurance_Type     Upper_Age    Lower_Age     Is_Spouse  \\\n",
       "count         10000.000000  10000.000000  10000.00000  10000.000000   \n",
       "mean              0.204400     44.765600     42.65650      0.168200   \n",
       "std               0.403283     17.281705     17.31614      0.374062   \n",
       "min               0.000000     18.000000     16.00000      0.000000   \n",
       "25%               0.000000     28.000000     27.00000      0.000000   \n",
       "50%               0.000000     44.000000     40.00000      0.000000   \n",
       "75%               0.000000     59.000000     57.00000      0.000000   \n",
       "max               1.000000     75.000000     75.00000      1.000000   \n",
       "\n",
       "       Health Indicator  Holding_Policy_Duration  Holding_Policy_Type  \\\n",
       "count      10000.000000             10000.000000         10000.000000   \n",
       "mean           1.098900                 9.807300             2.662100   \n",
       "std            1.394888                 5.673604             0.838924   \n",
       "min            0.000000                 1.000000             1.000000   \n",
       "25%            0.000000                 4.000000             2.000000   \n",
       "50%            1.000000                14.000000             3.000000   \n",
       "75%            2.000000                15.000000             3.000000   \n",
       "max            8.000000                15.000000             4.000000   \n",
       "\n",
       "       Reco_Policy_Cat  Reco_Policy_Premium      Response  \n",
       "count     10000.000000         10000.000000  10000.000000  \n",
       "mean         15.090700         14182.681460      0.245900  \n",
       "std           6.350237          6538.837384      0.430641  \n",
       "min           1.000000          2280.000000      0.000000  \n",
       "25%          12.000000          9278.400000      0.000000  \n",
       "50%          17.000000         13214.000000      0.000000  \n",
       "75%          20.000000         18070.000000      0.000000  \n",
       "max          22.000000         42256.000000      1.000000  "
      ]
     },
     "execution_count": 26,
     "metadata": {},
     "output_type": "execute_result"
    }
   ],
   "source": [
    "data.describe()"
   ]
  },
  {
   "cell_type": "code",
   "execution_count": 27,
   "metadata": {},
   "outputs": [
    {
     "name": "stdout",
     "output_type": "stream",
     "text": [
      "Number of Unique values in the Column wise\n",
      "City_Code -  36 [22  0 18 11  8 30  7 35 15 13 32 33  2 14  6  4 34 28 21 26  1  3 10 31\n",
      "  9  5 16 19 12 27 29 17 20 25 23 24]\n",
      "\n",
      "Accomodation_Type -  2 [0 1]\n",
      "\n",
      "Reco_Insurance_Type -  2 [0 1]\n",
      "\n",
      "Is_Spouse -  2 [0 1]\n",
      "\n",
      "Health Indicator -  9 [0 5 3 1 2 4 7 6 8]\n",
      "\n"
     ]
    }
   ],
   "source": [
    "print(\"Number of Unique values in the Column wise\")\n",
    "for i in Categorical_column:\n",
    "    print(\"\"+str(i)+\" - \",data[''+str(i)+''].nunique(),data[''+str(i)+''].unique())\n",
    "    print('')\n",
    "    #print(data[''+str(i)+''].unique())\n",
    "\n"
   ]
  },
  {
   "cell_type": "code",
   "execution_count": 28,
   "metadata": {},
   "outputs": [
    {
     "data": {
      "text/html": [
       "<div>\n",
       "<style scoped>\n",
       "    .dataframe tbody tr th:only-of-type {\n",
       "        vertical-align: middle;\n",
       "    }\n",
       "\n",
       "    .dataframe tbody tr th {\n",
       "        vertical-align: top;\n",
       "    }\n",
       "\n",
       "    .dataframe thead th {\n",
       "        text-align: right;\n",
       "    }\n",
       "</style>\n",
       "<table border=\"1\" class=\"dataframe\">\n",
       "  <thead>\n",
       "    <tr style=\"text-align: right;\">\n",
       "      <th></th>\n",
       "      <th>ID</th>\n",
       "      <th>City_Code</th>\n",
       "      <th>Region_Code</th>\n",
       "      <th>Upper_Age</th>\n",
       "      <th>Lower_Age</th>\n",
       "      <th>Is_Spouse</th>\n",
       "      <th>Holding_Policy_Duration</th>\n",
       "      <th>Holding_Policy_Type</th>\n",
       "      <th>Reco_Policy_Cat</th>\n",
       "      <th>Reco_Policy_Premium</th>\n",
       "      <th>...</th>\n",
       "      <th>Reco_Insurance_Type_1</th>\n",
       "      <th>Health Indicator_0</th>\n",
       "      <th>Health Indicator_1</th>\n",
       "      <th>Health Indicator_2</th>\n",
       "      <th>Health Indicator_3</th>\n",
       "      <th>Health Indicator_4</th>\n",
       "      <th>Health Indicator_5</th>\n",
       "      <th>Health Indicator_6</th>\n",
       "      <th>Health Indicator_7</th>\n",
       "      <th>Health Indicator_8</th>\n",
       "    </tr>\n",
       "  </thead>\n",
       "  <tbody>\n",
       "    <tr>\n",
       "      <th>0</th>\n",
       "      <td>27386</td>\n",
       "      <td>22</td>\n",
       "      <td>64</td>\n",
       "      <td>36</td>\n",
       "      <td>36</td>\n",
       "      <td>0</td>\n",
       "      <td>15</td>\n",
       "      <td>2.0</td>\n",
       "      <td>16</td>\n",
       "      <td>13320.0</td>\n",
       "      <td>...</td>\n",
       "      <td>0</td>\n",
       "      <td>1</td>\n",
       "      <td>0</td>\n",
       "      <td>0</td>\n",
       "      <td>0</td>\n",
       "      <td>0</td>\n",
       "      <td>0</td>\n",
       "      <td>0</td>\n",
       "      <td>0</td>\n",
       "      <td>0</td>\n",
       "    </tr>\n",
       "    <tr>\n",
       "      <th>1</th>\n",
       "      <td>33500</td>\n",
       "      <td>22</td>\n",
       "      <td>2955</td>\n",
       "      <td>66</td>\n",
       "      <td>66</td>\n",
       "      <td>0</td>\n",
       "      <td>10</td>\n",
       "      <td>1.0</td>\n",
       "      <td>19</td>\n",
       "      <td>16152.0</td>\n",
       "      <td>...</td>\n",
       "      <td>0</td>\n",
       "      <td>0</td>\n",
       "      <td>0</td>\n",
       "      <td>0</td>\n",
       "      <td>0</td>\n",
       "      <td>0</td>\n",
       "      <td>1</td>\n",
       "      <td>0</td>\n",
       "      <td>0</td>\n",
       "      <td>0</td>\n",
       "    </tr>\n",
       "    <tr>\n",
       "      <th>2</th>\n",
       "      <td>7998</td>\n",
       "      <td>0</td>\n",
       "      <td>1542</td>\n",
       "      <td>24</td>\n",
       "      <td>24</td>\n",
       "      <td>0</td>\n",
       "      <td>3</td>\n",
       "      <td>1.0</td>\n",
       "      <td>16</td>\n",
       "      <td>7310.0</td>\n",
       "      <td>...</td>\n",
       "      <td>0</td>\n",
       "      <td>1</td>\n",
       "      <td>0</td>\n",
       "      <td>0</td>\n",
       "      <td>0</td>\n",
       "      <td>0</td>\n",
       "      <td>0</td>\n",
       "      <td>0</td>\n",
       "      <td>0</td>\n",
       "      <td>0</td>\n",
       "    </tr>\n",
       "    <tr>\n",
       "      <th>3</th>\n",
       "      <td>33033</td>\n",
       "      <td>18</td>\n",
       "      <td>772</td>\n",
       "      <td>75</td>\n",
       "      <td>75</td>\n",
       "      <td>0</td>\n",
       "      <td>1</td>\n",
       "      <td>3.0</td>\n",
       "      <td>16</td>\n",
       "      <td>15792.0</td>\n",
       "      <td>...</td>\n",
       "      <td>0</td>\n",
       "      <td>1</td>\n",
       "      <td>0</td>\n",
       "      <td>0</td>\n",
       "      <td>0</td>\n",
       "      <td>0</td>\n",
       "      <td>0</td>\n",
       "      <td>0</td>\n",
       "      <td>0</td>\n",
       "      <td>0</td>\n",
       "    </tr>\n",
       "    <tr>\n",
       "      <th>4</th>\n",
       "      <td>30517</td>\n",
       "      <td>11</td>\n",
       "      <td>1510</td>\n",
       "      <td>59</td>\n",
       "      <td>58</td>\n",
       "      <td>1</td>\n",
       "      <td>15</td>\n",
       "      <td>4.0</td>\n",
       "      <td>17</td>\n",
       "      <td>23673.0</td>\n",
       "      <td>...</td>\n",
       "      <td>1</td>\n",
       "      <td>1</td>\n",
       "      <td>0</td>\n",
       "      <td>0</td>\n",
       "      <td>0</td>\n",
       "      <td>0</td>\n",
       "      <td>0</td>\n",
       "      <td>0</td>\n",
       "      <td>0</td>\n",
       "      <td>0</td>\n",
       "    </tr>\n",
       "    <tr>\n",
       "      <th>...</th>\n",
       "      <td>...</td>\n",
       "      <td>...</td>\n",
       "      <td>...</td>\n",
       "      <td>...</td>\n",
       "      <td>...</td>\n",
       "      <td>...</td>\n",
       "      <td>...</td>\n",
       "      <td>...</td>\n",
       "      <td>...</td>\n",
       "      <td>...</td>\n",
       "      <td>...</td>\n",
       "      <td>...</td>\n",
       "      <td>...</td>\n",
       "      <td>...</td>\n",
       "      <td>...</td>\n",
       "      <td>...</td>\n",
       "      <td>...</td>\n",
       "      <td>...</td>\n",
       "      <td>...</td>\n",
       "      <td>...</td>\n",
       "      <td>...</td>\n",
       "    </tr>\n",
       "    <tr>\n",
       "      <th>9995</th>\n",
       "      <td>5204</td>\n",
       "      <td>22</td>\n",
       "      <td>13</td>\n",
       "      <td>47</td>\n",
       "      <td>40</td>\n",
       "      <td>1</td>\n",
       "      <td>15</td>\n",
       "      <td>3.0</td>\n",
       "      <td>19</td>\n",
       "      <td>27840.0</td>\n",
       "      <td>...</td>\n",
       "      <td>1</td>\n",
       "      <td>0</td>\n",
       "      <td>0</td>\n",
       "      <td>0</td>\n",
       "      <td>0</td>\n",
       "      <td>1</td>\n",
       "      <td>0</td>\n",
       "      <td>0</td>\n",
       "      <td>0</td>\n",
       "      <td>0</td>\n",
       "    </tr>\n",
       "    <tr>\n",
       "      <th>9996</th>\n",
       "      <td>35449</td>\n",
       "      <td>31</td>\n",
       "      <td>1477</td>\n",
       "      <td>34</td>\n",
       "      <td>34</td>\n",
       "      <td>0</td>\n",
       "      <td>6</td>\n",
       "      <td>1.0</td>\n",
       "      <td>4</td>\n",
       "      <td>10560.0</td>\n",
       "      <td>...</td>\n",
       "      <td>0</td>\n",
       "      <td>1</td>\n",
       "      <td>0</td>\n",
       "      <td>0</td>\n",
       "      <td>0</td>\n",
       "      <td>0</td>\n",
       "      <td>0</td>\n",
       "      <td>0</td>\n",
       "      <td>0</td>\n",
       "      <td>0</td>\n",
       "    </tr>\n",
       "    <tr>\n",
       "      <th>9997</th>\n",
       "      <td>47254</td>\n",
       "      <td>0</td>\n",
       "      <td>2357</td>\n",
       "      <td>64</td>\n",
       "      <td>64</td>\n",
       "      <td>0</td>\n",
       "      <td>8</td>\n",
       "      <td>2.0</td>\n",
       "      <td>19</td>\n",
       "      <td>14716.0</td>\n",
       "      <td>...</td>\n",
       "      <td>0</td>\n",
       "      <td>1</td>\n",
       "      <td>0</td>\n",
       "      <td>0</td>\n",
       "      <td>0</td>\n",
       "      <td>0</td>\n",
       "      <td>0</td>\n",
       "      <td>0</td>\n",
       "      <td>0</td>\n",
       "      <td>0</td>\n",
       "    </tr>\n",
       "    <tr>\n",
       "      <th>9998</th>\n",
       "      <td>42545</td>\n",
       "      <td>0</td>\n",
       "      <td>1443</td>\n",
       "      <td>53</td>\n",
       "      <td>53</td>\n",
       "      <td>0</td>\n",
       "      <td>15</td>\n",
       "      <td>3.0</td>\n",
       "      <td>13</td>\n",
       "      <td>11664.0</td>\n",
       "      <td>...</td>\n",
       "      <td>0</td>\n",
       "      <td>0</td>\n",
       "      <td>0</td>\n",
       "      <td>0</td>\n",
       "      <td>0</td>\n",
       "      <td>1</td>\n",
       "      <td>0</td>\n",
       "      <td>0</td>\n",
       "      <td>0</td>\n",
       "      <td>0</td>\n",
       "    </tr>\n",
       "    <tr>\n",
       "      <th>9999</th>\n",
       "      <td>7865</td>\n",
       "      <td>33</td>\n",
       "      <td>1476</td>\n",
       "      <td>56</td>\n",
       "      <td>47</td>\n",
       "      <td>1</td>\n",
       "      <td>15</td>\n",
       "      <td>3.0</td>\n",
       "      <td>10</td>\n",
       "      <td>28752.0</td>\n",
       "      <td>...</td>\n",
       "      <td>1</td>\n",
       "      <td>0</td>\n",
       "      <td>1</td>\n",
       "      <td>0</td>\n",
       "      <td>0</td>\n",
       "      <td>0</td>\n",
       "      <td>0</td>\n",
       "      <td>0</td>\n",
       "      <td>0</td>\n",
       "      <td>0</td>\n",
       "    </tr>\n",
       "  </tbody>\n",
       "</table>\n",
       "<p>10000 rows × 24 columns</p>\n",
       "</div>"
      ],
      "text/plain": [
       "         ID  City_Code  Region_Code  Upper_Age  Lower_Age  Is_Spouse  \\\n",
       "0     27386         22           64         36         36          0   \n",
       "1     33500         22         2955         66         66          0   \n",
       "2      7998          0         1542         24         24          0   \n",
       "3     33033         18          772         75         75          0   \n",
       "4     30517         11         1510         59         58          1   \n",
       "...     ...        ...          ...        ...        ...        ...   \n",
       "9995   5204         22           13         47         40          1   \n",
       "9996  35449         31         1477         34         34          0   \n",
       "9997  47254          0         2357         64         64          0   \n",
       "9998  42545          0         1443         53         53          0   \n",
       "9999   7865         33         1476         56         47          1   \n",
       "\n",
       "      Holding_Policy_Duration  Holding_Policy_Type  Reco_Policy_Cat  \\\n",
       "0                          15                  2.0               16   \n",
       "1                          10                  1.0               19   \n",
       "2                           3                  1.0               16   \n",
       "3                           1                  3.0               16   \n",
       "4                          15                  4.0               17   \n",
       "...                       ...                  ...              ...   \n",
       "9995                       15                  3.0               19   \n",
       "9996                        6                  1.0                4   \n",
       "9997                        8                  2.0               19   \n",
       "9998                       15                  3.0               13   \n",
       "9999                       15                  3.0               10   \n",
       "\n",
       "      Reco_Policy_Premium  ...  Reco_Insurance_Type_1  Health Indicator_0  \\\n",
       "0                 13320.0  ...                      0                   1   \n",
       "1                 16152.0  ...                      0                   0   \n",
       "2                  7310.0  ...                      0                   1   \n",
       "3                 15792.0  ...                      0                   1   \n",
       "4                 23673.0  ...                      1                   1   \n",
       "...                   ...  ...                    ...                 ...   \n",
       "9995              27840.0  ...                      1                   0   \n",
       "9996              10560.0  ...                      0                   1   \n",
       "9997              14716.0  ...                      0                   1   \n",
       "9998              11664.0  ...                      0                   0   \n",
       "9999              28752.0  ...                      1                   0   \n",
       "\n",
       "      Health Indicator_1  Health Indicator_2  Health Indicator_3  \\\n",
       "0                      0                   0                   0   \n",
       "1                      0                   0                   0   \n",
       "2                      0                   0                   0   \n",
       "3                      0                   0                   0   \n",
       "4                      0                   0                   0   \n",
       "...                  ...                 ...                 ...   \n",
       "9995                   0                   0                   0   \n",
       "9996                   0                   0                   0   \n",
       "9997                   0                   0                   0   \n",
       "9998                   0                   0                   0   \n",
       "9999                   1                   0                   0   \n",
       "\n",
       "      Health Indicator_4  Health Indicator_5  Health Indicator_6  \\\n",
       "0                      0                   0                   0   \n",
       "1                      0                   1                   0   \n",
       "2                      0                   0                   0   \n",
       "3                      0                   0                   0   \n",
       "4                      0                   0                   0   \n",
       "...                  ...                 ...                 ...   \n",
       "9995                   1                   0                   0   \n",
       "9996                   0                   0                   0   \n",
       "9997                   0                   0                   0   \n",
       "9998                   1                   0                   0   \n",
       "9999                   0                   0                   0   \n",
       "\n",
       "      Health Indicator_7  Health Indicator_8  \n",
       "0                      0                   0  \n",
       "1                      0                   0  \n",
       "2                      0                   0  \n",
       "3                      0                   0  \n",
       "4                      0                   0  \n",
       "...                  ...                 ...  \n",
       "9995                   0                   0  \n",
       "9996                   0                   0  \n",
       "9997                   0                   0  \n",
       "9998                   0                   0  \n",
       "9999                   0                   0  \n",
       "\n",
       "[10000 rows x 24 columns]"
      ]
     },
     "execution_count": 28,
     "metadata": {},
     "output_type": "execute_result"
    }
   ],
   "source": [
    "pd.get_dummies(data,columns=['Accomodation_Type','Reco_Insurance_Type','Health Indicator'])"
   ]
  },
  {
   "cell_type": "code",
   "execution_count": 29,
   "metadata": {},
   "outputs": [],
   "source": [
    "from sklearn.preprocessing import OneHotEncoder\n",
    "one_coding = OneHotEncoder()\n",
    "#data_for_OHE = pd.get_dummies(data,columns=['Accomodation_Type','Reco_Insurance_Type','Health Indicator'])\n",
    "#data_for_OHE.columns\n",
    "\n",
    "#data_for_OHE.head(2)\n"
   ]
  },
  {
   "cell_type": "code",
   "execution_count": 30,
   "metadata": {},
   "outputs": [
    {
     "data": {
      "text/plain": [
       "Index(['ID', 'City_Code', 'Region_Code', 'Accomodation_Type',\n",
       "       'Reco_Insurance_Type', 'Upper_Age', 'Lower_Age', 'Is_Spouse',\n",
       "       'Health Indicator', 'Holding_Policy_Duration', 'Holding_Policy_Type',\n",
       "       'Reco_Policy_Cat', 'Reco_Policy_Premium', 'Response'],\n",
       "      dtype='object')"
      ]
     },
     "execution_count": 30,
     "metadata": {},
     "output_type": "execute_result"
    }
   ],
   "source": [
    "data.columns"
   ]
  },
  {
   "cell_type": "code",
   "execution_count": 31,
   "metadata": {},
   "outputs": [],
   "source": [
    "# Concatinating the original data frame and onehot encoded dataframe\n",
    "\n",
    "# use pd.concat to join the new columns with your original dataframe\n",
    "data_1 = pd.concat([pd.get_dummies(data, columns=['Accomodation_Type','Reco_Insurance_Type','Health Indicator'])],axis=1)\n",
    "\n",
    "\n",
    "#data_1.drop(['Accomodation_Type', 'Reco_Insurance_Type','Health Indicator'],axis=1, inplace=True)\n",
    "\n"
   ]
  },
  {
   "cell_type": "code",
   "execution_count": 32,
   "metadata": {},
   "outputs": [
    {
     "data": {
      "text/plain": [
       "Index(['ID', 'City_Code', 'Region_Code', 'Upper_Age', 'Lower_Age', 'Is_Spouse',\n",
       "       'Holding_Policy_Duration', 'Holding_Policy_Type', 'Reco_Policy_Cat',\n",
       "       'Reco_Policy_Premium', 'Response', 'Accomodation_Type_0',\n",
       "       'Accomodation_Type_1', 'Reco_Insurance_Type_0', 'Reco_Insurance_Type_1',\n",
       "       'Health Indicator_0', 'Health Indicator_1', 'Health Indicator_2',\n",
       "       'Health Indicator_3', 'Health Indicator_4', 'Health Indicator_5',\n",
       "       'Health Indicator_6', 'Health Indicator_7', 'Health Indicator_8'],\n",
       "      dtype='object')"
      ]
     },
     "execution_count": 32,
     "metadata": {},
     "output_type": "execute_result"
    }
   ],
   "source": [
    "data_1.columns"
   ]
  },
  {
   "cell_type": "code",
   "execution_count": 33,
   "metadata": {},
   "outputs": [
    {
     "data": {
      "text/plain": [
       "(10000, 23)"
      ]
     },
     "execution_count": 33,
     "metadata": {},
     "output_type": "execute_result"
    }
   ],
   "source": [
    "# Drop all the unwanted columns.\n",
    "\n",
    "data_1.drop(['ID'],axis=1,inplace=True)\n",
    "\n",
    "# Because we have already encoded them and added to main dataframe\n",
    "\n",
    "data_1.shape"
   ]
  },
  {
   "cell_type": "markdown",
   "metadata": {},
   "source": [
    "## checking the responce column"
   ]
  },
  {
   "cell_type": "code",
   "execution_count": 34,
   "metadata": {},
   "outputs": [
    {
     "data": {
      "text/plain": [
       "0    7541\n",
       "1    2459\n",
       "Name: Response, dtype: int64"
      ]
     },
     "execution_count": 34,
     "metadata": {},
     "output_type": "execute_result"
    }
   ],
   "source": [
    "data_1['Response'].value_counts()"
   ]
  },
  {
   "cell_type": "code",
   "execution_count": 35,
   "metadata": {},
   "outputs": [
    {
     "name": "stdout",
     "output_type": "stream",
     "text": [
      "0    7541\n",
      "1    2459\n",
      "Name: Response, dtype: int64\n"
     ]
    },
    {
     "data": {
      "image/png": "[encoded data removed]",
      "text/plain": [
       "<Figure size 432x288 with 1 Axes>"
      ]
     },
     "metadata": {
      "needs_background": "light"
     },
     "output_type": "display_data"
    }
   ],
   "source": [
    "sns.countplot(x = 'Response' , data = data_1)\n",
    "\n",
    "print(data_1['Response'].value_counts())"
   ]
  },
  {
   "cell_type": "code",
   "execution_count": 36,
   "metadata": {},
   "outputs": [
    {
     "name": "stdout",
     "output_type": "stream",
     "text": [
      "24.59\n",
      "\n",
      "75.41\n"
     ]
    }
   ],
   "source": [
    "print(100*(2459/float(data_1.shape[0])))\n",
    "\n",
    "print('')\n",
    "\n",
    "print(100*(7541/float(data_1.shape[0])))"
   ]
  },
  {
   "cell_type": "markdown",
   "metadata": {},
   "source": [
    "# --\n",
    "    Here , this col has imbalancely distributed SO , since this column is our \"Y\" we have to balance this column for further process. lets see without imbalancing what output we get.., then balance the column and check what output we get...."
   ]
  },
  {
   "cell_type": "markdown",
   "metadata": {},
   "source": [
    "# logestic regression :"
   ]
  },
  {
   "cell_type": "code",
   "execution_count": 37,
   "metadata": {},
   "outputs": [],
   "source": [
    "from sklearn.metrics import accuracy_score, precision_score, recall_score, f1_score, classification_report, accuracy_score\n",
    "from sklearn.model_selection import train_test_split\n",
    "\n",
    "import warnings\n",
    "warnings.filterwarnings('ignore')\n",
    "\n",
    "# to ignore warnings"
   ]
  },
  {
   "cell_type": "code",
   "execution_count": 38,
   "metadata": {},
   "outputs": [],
   "source": [
    "data_1 = data_1[['City_Code', 'Region_Code', 'Upper_Age', 'Lower_Age', 'Is_Spouse','Holding_Policy_Duration', 'Holding_Policy_Type', 'Reco_Policy_Cat','Reco_Policy_Premium', 'Accomodation_Type_0','Accomodation_Type_1', 'Reco_Insurance_Type_0', 'Reco_Insurance_Type_1','Health Indicator_0', 'Health Indicator_1', 'Health Indicator_2','Health Indicator_3', 'Health Indicator_4', 'Health Indicator_5','Health Indicator_6', 'Health Indicator_7', 'Health Indicator_8', 'Response']]\n",
    "\n"
   ]
  },
  {
   "cell_type": "code",
   "execution_count": 39,
   "metadata": {},
   "outputs": [
    {
     "name": "stdout",
     "output_type": "stream",
     "text": [
      "              precision    recall  f1-score   support\n",
      "\n",
      "           0       0.74      1.00      0.85      1862\n",
      "           1       0.00      0.00      0.00       638\n",
      "\n",
      "    accuracy                           0.74      2500\n",
      "   macro avg       0.37      0.50      0.43      2500\n",
      "weighted avg       0.55      0.74      0.64      2500\n",
      "\n",
      "\n",
      "0.5\n"
     ]
    },
    {
     "data": {
      "image/png": "[encoded data removed]",
      "text/plain": [
       "<Figure size 432x288 with 1 Axes>"
      ]
     },
     "metadata": {
      "needs_background": "light"
     },
     "output_type": "display_data"
    }
   ],
   "source": [
    "from sklearn.linear_model import LogisticRegression\n",
    "log_reg = LogisticRegression()\n",
    "\n",
    "# Features selection \n",
    "X = data_1.iloc[:,:-1]\n",
    "y = data_1.iloc[:,-1]\n",
    "\n",
    "# Split and Fit model\n",
    "X_train,X_test,y_train,y_test = train_test_split(X,y,test_size=0.25,random_state=44)\n",
    "\n",
    "log_reg.fit(X_train, y_train)\n",
    "y_pred = log_reg.predict(X_test)\n",
    "\n",
    "print(classification_report (y_test, y_pred))\n",
    "print('')\n",
    "\n",
    "from sklearn.metrics import roc_curve,auc\n",
    "\n",
    "[fpr, tpr, thr] = roc_curve(y_test, y_pred)\n",
    "print(auc (fpr, tpr))\n",
    "\n",
    "\n",
    "plt.figure()\n",
    "plt.plot(fpr, tpr, color='coral', label = 'ROC Curve with Area Under Curve = '+str(auc (fpr, tpr)))\n",
    "plt.xlabel('False positive Rate (1 - specificity)')\n",
    "plt.ylabel('True Positive Rate ')\n",
    "plt.legend(loc='lower right')\n",
    "plt.show()"
   ]
  },
  {
   "cell_type": "markdown",
   "metadata": {},
   "source": [
    "# observation:\n",
    "    \n",
    "    As u see in classification_report - accuracy is 74 which is not good and precision & recall is 0 THIS is not good model we need to deal with dep column for good acc and good model.\n",
    "    \n",
    "    if we proceed with imbalanced dataset we dont get good model. so to get better model we need to change that. and make balanced dataset and proceed for further steps and perform models  \n",
    "    "
   ]
  },
  {
   "cell_type": "code",
   "execution_count": 40,
   "metadata": {},
   "outputs": [
    {
     "data": {
      "text/plain": [
       "Index(['City_Code', 'Region_Code', 'Upper_Age', 'Lower_Age', 'Is_Spouse',\n",
       "       'Holding_Policy_Duration', 'Holding_Policy_Type', 'Reco_Policy_Cat',\n",
       "       'Reco_Policy_Premium', 'Accomodation_Type_0', 'Accomodation_Type_1',\n",
       "       'Reco_Insurance_Type_0', 'Reco_Insurance_Type_1', 'Health Indicator_0',\n",
       "       'Health Indicator_1', 'Health Indicator_2', 'Health Indicator_3',\n",
       "       'Health Indicator_4', 'Health Indicator_5', 'Health Indicator_6',\n",
       "       'Health Indicator_7', 'Health Indicator_8', 'Response'],\n",
       "      dtype='object')"
      ]
     },
     "execution_count": 40,
     "metadata": {},
     "output_type": "execute_result"
    }
   ],
   "source": [
    "data_1.columns\n"
   ]
  },
  {
   "cell_type": "code",
   "execution_count": 41,
   "metadata": {},
   "outputs": [
    {
     "data": {
      "text/plain": [
       "(10000, 23)"
      ]
     },
     "execution_count": 41,
     "metadata": {},
     "output_type": "execute_result"
    }
   ],
   "source": [
    "data_1.shape"
   ]
  },
  {
   "cell_type": "markdown",
   "metadata": {},
   "source": [
    "## Observe that 26.5% datapoints belong to one class rest all belongs to other class. Clearly dataset is having high imbalance.\n",
    "\n",
    "**To Do:**\n",
    "1. Read about Oversampling and Undersampling.\n",
    "2. Perform undersampling."
   ]
  },
  {
   "cell_type": "code",
   "execution_count": 42,
   "metadata": {},
   "outputs": [
    {
     "name": "stdout",
     "output_type": "stream",
     "text": [
      "Requirement already satisfied: imblearn in /Users/shivakesh/opt/anaconda3/lib/python3.8/site-packages (0.0)\n",
      "Requirement already satisfied: imbalanced-learn in /Users/shivakesh/opt/anaconda3/lib/python3.8/site-packages (from imblearn) (0.8.0)\n",
      "Requirement already satisfied: scipy>=0.19.1 in /Users/shivakesh/opt/anaconda3/lib/python3.8/site-packages (from imbalanced-learn->imblearn) (1.5.2)\n",
      "Requirement already satisfied: numpy>=1.13.3 in /Users/shivakesh/opt/anaconda3/lib/python3.8/site-packages (from imbalanced-learn->imblearn) (1.19.2)\n",
      "Requirement already satisfied: scikit-learn>=0.24 in /Users/shivakesh/opt/anaconda3/lib/python3.8/site-packages (from imbalanced-learn->imblearn) (0.24.2)\n",
      "Requirement already satisfied: joblib>=0.11 in /Users/shivakesh/opt/anaconda3/lib/python3.8/site-packages (from imbalanced-learn->imblearn) (0.17.0)\n",
      "Requirement already satisfied: threadpoolctl>=2.0.0 in /Users/shivakesh/opt/anaconda3/lib/python3.8/site-packages (from scikit-learn>=0.24->imbalanced-learn->imblearn) (2.1.0)\n",
      "Note: you may need to restart the kernel to use updated packages.\n"
     ]
    }
   ],
   "source": [
    "pip install imblearn"
   ]
  },
  {
   "cell_type": "code",
   "execution_count": 43,
   "metadata": {},
   "outputs": [
    {
     "name": "stdout",
     "output_type": "stream",
     "text": [
      "(11358, 22)\n",
      "(11358,)\n"
     ]
    }
   ],
   "source": [
    "### Inabalance Independent Veriable : \n",
    "from imblearn import under_sampling, over_sampling\n",
    "from imblearn.over_sampling import SMOTE\n",
    "sm = SMOTE()    #SMOTE : Synthetic minority oversampling technique (inbalance Data Handling)\n",
    "\n",
    "X_train_smote,y_train_smote = sm.fit_resample(X_train,y_train)\n",
    "\n",
    "print(X_train_smote.shape)\n",
    "print(y_train_smote.shape)"
   ]
  },
  {
   "cell_type": "code",
   "execution_count": 44,
   "metadata": {},
   "outputs": [
    {
     "data": {
      "text/plain": [
       "1    50.0\n",
       "0    50.0\n",
       "Name: Response, dtype: float64"
      ]
     },
     "execution_count": 44,
     "metadata": {},
     "output_type": "execute_result"
    }
   ],
   "source": [
    "# After balancing Independent Veriable\n",
    "y_train_smote.value_counts(normalize=True)*100"
   ]
  },
  {
   "cell_type": "markdown",
   "metadata": {},
   "source": [
    "# --\n",
    "    Now the column is distributed equally lets check the result ..."
   ]
  },
  {
   "cell_type": "markdown",
   "metadata": {},
   "source": [
    "## Train Test Split\n",
    "\n",
    "**To Do:**\n",
    "1. Sandardise the data\n",
    "2. Perform 80-20 split"
   ]
  },
  {
   "cell_type": "code",
   "execution_count": 45,
   "metadata": {},
   "outputs": [],
   "source": [
    "cols = [ 'City_Code', 'Region_Code', 'Upper_Age', 'Lower_Age', 'Is_Spouse','Holding_Policy_Duration', 'Holding_Policy_Type', 'Reco_Policy_Cat','Reco_Policy_Premium', 'Accomodation_Type_0','Accomodation_Type_1', 'Reco_Insurance_Type_0', 'Reco_Insurance_Type_1','Health Indicator_0', 'Health Indicator_1', 'Health Indicator_2','Health Indicator_3', 'Health Indicator_4', 'Health Indicator_5','Health Indicator_6', 'Health Indicator_7', 'Health Indicator_8']\n",
    "\n"
   ]
  },
  {
   "cell_type": "code",
   "execution_count": 46,
   "metadata": {},
   "outputs": [
    {
     "name": "stdout",
     "output_type": "stream",
     "text": [
      "10000\n",
      "X:  10000\n",
      "y:  10000\n",
      "\n",
      "X_TRAIN :  (8000, 22)\n",
      "y_TRAIN :  (8000,)\n",
      "X_test :  (2000, 22)\n",
      "y_test :  (2000,)\n"
     ]
    }
   ],
   "source": [
    "# Features selection \n",
    "X = data_1.iloc[:,:-1]\n",
    "y = data_1.iloc[:,-1]\n",
    "\n",
    "# Split and Fit model\n",
    "X_train,X_test,y_train,y_test = train_test_split(X,y,test_size=0.20,random_state=44)\n",
    "\n",
    "print(len(data_1))\n",
    "\n",
    "print('X: ', len(X))\n",
    "\n",
    "print('y: ', len(y))\n",
    "                 \n",
    "print('')\n",
    "\n",
    "print('X_TRAIN : ',X_train.shape)\n",
    "print('y_TRAIN : ',y_train.shape)\n",
    "print('X_test : ',X_test.shape)\n",
    "print('y_test : ',y_test.shape)"
   ]
  },
  {
   "cell_type": "code",
   "execution_count": 47,
   "metadata": {},
   "outputs": [],
   "source": [
    "# Features selection \n",
    "X = data_1[cols]\n",
    "y = data_1['Response']"
   ]
  },
  {
   "cell_type": "code",
   "execution_count": 48,
   "metadata": {},
   "outputs": [
    {
     "name": "stdout",
     "output_type": "stream",
     "text": [
      "(11358, 22)\n",
      "(11358,)\n"
     ]
    }
   ],
   "source": [
    "print(X_train_smote.shape)\n",
    "print(y_train_smote.shape)"
   ]
  },
  {
   "cell_type": "code",
   "execution_count": 49,
   "metadata": {},
   "outputs": [
    {
     "name": "stdout",
     "output_type": "stream",
     "text": [
      "X_TRAIN :  (8000, 22)\n",
      "y_TRAIN :  (8000,)\n",
      "X_test :  (2000, 22)\n",
      "y_test :  (2000,)\n"
     ]
    }
   ],
   "source": [
    "print('X_TRAIN : ',X_train.shape)\n",
    "print('y_TRAIN : ',y_train.shape)\n",
    "print('X_test : ',X_test.shape)\n",
    "print('y_test : ',y_test.shape)"
   ]
  },
  {
   "cell_type": "markdown",
   "metadata": {},
   "source": [
    "## Model Building - Logistic Regression\n",
    "\n",
    "**To Do:**\n",
    "1. Perform appropriate Hyperparameter Tuning\n",
    "2. Train the Model using `Accuracy` as the evaluation metric\n",
    "3. Predict\n",
    "4. Evaluate\n",
    "5. Use Accuracy, Confusion Matrix, Precision & Recall, F1-score and ROC AUC to understand model performance"
   ]
  },
  {
   "cell_type": "markdown",
   "metadata": {},
   "source": [
    "# 1. logestic regression"
   ]
  },
  {
   "cell_type": "code",
   "execution_count": 50,
   "metadata": {},
   "outputs": [],
   "source": [
    "from sklearn.metrics import accuracy_score, precision_score, recall_score, f1_score, classification_report, accuracy_score\n",
    "from sklearn.metrics import confusion_matrix\n"
   ]
  },
  {
   "cell_type": "code",
   "execution_count": 51,
   "metadata": {},
   "outputs": [
    {
     "name": "stdout",
     "output_type": "stream",
     "text": [
      "Model: LogisticRegression()\n",
      "\n",
      "for test:\n",
      " Logistic Regression Model Accuracy :  0.6\n",
      "\n"
     ]
    },
    {
     "data": {
      "text/plain": [
       "array([[996, 301],\n",
       "       [499, 204]])"
      ]
     },
     "execution_count": 51,
     "metadata": {},
     "output_type": "execute_result"
    }
   ],
   "source": [
    "#Logistic Regression\n",
    "\n",
    "from sklearn.linear_model import LogisticRegression\n",
    "\n",
    "log_reg = LogisticRegression()\n",
    "log_reg.fit(X_train_smote,y_train_smote)\n",
    "\n",
    "y_pred_for_log = log_reg.predict(X_test)\n",
    "\n",
    "print('Model:', log_reg)\n",
    "\n",
    "print('')\n",
    "print('for test:')\n",
    "\n",
    "print(' Logistic Regression Model Accuracy : ', accuracy_score(y_pred_for_log,y_test))\n",
    "\n",
    "print('')\n",
    "\n",
    "confusion_matrix(y_pred_for_log,y_test)"
   ]
  },
  {
   "cell_type": "code",
   "execution_count": 52,
   "metadata": {},
   "outputs": [
    {
     "name": "stdout",
     "output_type": "stream",
     "text": [
      "recall_score_for_log :  0.2901849217638691\n",
      "\n",
      "precision_score_for_log :  0.403960396039604\n",
      "\n",
      "              precision    recall  f1-score   support\n",
      "\n",
      "           0       0.67      0.77      0.71      1297\n",
      "           1       0.40      0.29      0.34       703\n",
      "\n",
      "    accuracy                           0.60      2000\n",
      "   macro avg       0.54      0.53      0.53      2000\n",
      "weighted avg       0.57      0.60      0.58      2000\n",
      "\n",
      "auc :  0.5350905659127786\n"
     ]
    },
    {
     "data": {
      "text/plain": [
       "[<matplotlib.lines.Line2D at 0x7ff962367850>]"
      ]
     },
     "execution_count": 52,
     "metadata": {},
     "output_type": "execute_result"
    },
    {
     "data": {
      "image/png": "[encoded data removed]",
      "text/plain": [
       "<Figure size 432x288 with 1 Axes>"
      ]
     },
     "metadata": {
      "needs_background": "light"
     },
     "output_type": "display_data"
    }
   ],
   "source": [
    "from sklearn.metrics import recall_score\n",
    "print('recall_score_for_log : ',recall_score(y_pred_for_log,y_test))\n",
    "\n",
    "print('')\n",
    "\n",
    "from sklearn.metrics import precision_score\n",
    "print('precision_score_for_log : ',precision_score(y_pred_for_log,y_test))\n",
    "\n",
    "print('')\n",
    "\n",
    "print(classification_report(y_pred_for_log,y_test))\n",
    "\n",
    "#ROC (Receiver Operating Characteristics)\n",
    "from sklearn.metrics import roc_curve\n",
    "[FPR,TPR,THR] = roc_curve(y_test,y_pred_for_log)\n",
    "\n",
    "#auc = Area Under Curve\n",
    "from sklearn.metrics import auc\n",
    "print('auc : ' ,auc(FPR,TPR))\n",
    "\n",
    "plt.plot(FPR,TPR,color='orange',label='ROC')"
   ]
  },
  {
   "cell_type": "markdown",
   "metadata": {},
   "source": [
    "# hyper-parameter tuning for logistic"
   ]
  },
  {
   "cell_type": "markdown",
   "metadata": {},
   "source": [
    "    Logistic regression does not really have any critical hyperparameters to tune. Sometimes, \n",
    "    you can see useful differences in performance or convergence with different solvers (solver). \n",
    "    Regularization (penalty) can sometimes be helpful."
   ]
  },
  {
   "cell_type": "markdown",
   "metadata": {},
   "source": [
    "1. solver in [‘newton-cg’, ‘lbfgs’, ‘liblinear’, ‘sag’, ‘saga’]\n",
    "\n",
    "2. penalty in [‘none’, ‘l1’, ‘l2’, ‘elasticnet’]\n",
    "\n",
    "3. C in [100, 10, 1.0, 0.1, 0.01]"
   ]
  },
  {
   "cell_type": "code",
   "execution_count": 53,
   "metadata": {},
   "outputs": [
    {
     "data": {
      "text/plain": [
       "GridSearchCV(cv=RepeatedStratifiedKFold(n_repeats=3, n_splits=10, random_state=1),\n",
       "             error_score=0, estimator=LogisticRegression(), n_jobs=-1,\n",
       "             param_grid={'C': [100, 10, 1.0, 0.1, 0.01], 'penalty': ['l2'],\n",
       "                         'solver': ['liblinear']},\n",
       "             scoring='accuracy')"
      ]
     },
     "execution_count": 53,
     "metadata": {},
     "output_type": "execute_result"
    }
   ],
   "source": [
    "from sklearn.model_selection import GridSearchCV\n",
    "from sklearn.model_selection import RepeatedStratifiedKFold\n",
    "\n",
    "# define models and parameters\n",
    "\n",
    "solvers = ['liblinear']\n",
    "penalty = ['l2']\n",
    "c_values = [100, 10, 1.0, 0.1, 0.01]\n",
    "\n",
    "# define grid search\n",
    "grid_search_for_log = dict(solver=solvers,penalty=penalty,C=c_values)\n",
    "\n",
    "cv = RepeatedStratifiedKFold(n_splits=10, n_repeats=3, random_state=1)\n",
    "\n",
    "grid_search = GridSearchCV(estimator=LogisticRegression(), param_grid=grid_search_for_log, n_jobs=-1, cv=cv, scoring='accuracy',error_score=0)\n",
    "\n",
    "grid_search.fit(X_train_smote,y_train_smote)\n"
   ]
  },
  {
   "cell_type": "code",
   "execution_count": 54,
   "metadata": {},
   "outputs": [
    {
     "data": {
      "text/plain": [
       "0.7898104485946517"
      ]
     },
     "execution_count": 54,
     "metadata": {},
     "output_type": "execute_result"
    }
   ],
   "source": [
    "grid_search.best_score_"
   ]
  },
  {
   "cell_type": "code",
   "execution_count": 55,
   "metadata": {},
   "outputs": [
    {
     "data": {
      "text/plain": [
       "{'C': 10, 'penalty': 'l2', 'solver': 'liblinear'}"
      ]
     },
     "execution_count": 55,
     "metadata": {},
     "output_type": "execute_result"
    }
   ],
   "source": [
    "grid_search.best_params_"
   ]
  },
  {
   "cell_type": "markdown",
   "metadata": {},
   "source": [
    "# model building"
   ]
  },
  {
   "cell_type": "code",
   "execution_count": 56,
   "metadata": {},
   "outputs": [],
   "source": [
    "log_reg2 = grid_search.best_estimator_\n",
    "\n",
    "log_reg2.fit(X_train_smote,y_train_smote)\n",
    "\n",
    "y_pred_for_log_reg2 = log_reg2.predict(X_test)\n"
   ]
  },
  {
   "cell_type": "code",
   "execution_count": 57,
   "metadata": {},
   "outputs": [
    {
     "name": "stdout",
     "output_type": "stream",
     "text": [
      "Test set accuracy :  0.7475\n",
      "\n",
      "[[1493    2]\n",
      " [ 503    2]]\n",
      "\n",
      "recall_score_for_log_reg2 :  0.0039603960396039604\n",
      "\n",
      "precision_score_for_log_reg2 :  0.5\n"
     ]
    }
   ],
   "source": [
    "#print('Training set accuracy: ', metrics.accuracy_score(y_train_smote, y_hat_knn2))\n",
    "print('Test set accuracy : ', accuracy_score(y_pred_for_log_reg2, y_test))\n",
    "\n",
    "print('')\n",
    "\n",
    "from sklearn.metrics import confusion_matrix\n",
    "print(confusion_matrix(y_test, y_pred_for_log_reg2))\n",
    "\n",
    "print('')\n",
    "from sklearn.metrics import recall_score\n",
    "print('recall_score_for_log_reg2 : ',recall_score(y_test, y_pred_for_log_reg2))\n",
    "\n",
    "print('')\n",
    "\n",
    "from sklearn.metrics import precision_score\n",
    "print('precision_score_for_log_reg2 : ',precision_score(y_test, y_pred_for_log_reg2))\n"
   ]
  },
  {
   "cell_type": "markdown",
   "metadata": {},
   "source": [
    "# observations :\n",
    "    \n",
    "    before balancing the y col = responce the output is like this\n",
    "        acc = 0.74 \n",
    "        precision = 0.00\n",
    "        recall = 0.00\n",
    "-->\n",
    "\n",
    "    After balancing the col : (base model)\n",
    "        \n",
    "            acc = 0.53\n",
    "            precision = 0.49\n",
    "            recall = 0.26\n",
    "->\n",
    "    \n",
    "    AFTER applying hyper parametrs to the base model the output is \n",
    "        \n",
    "        acc = 74.3\n",
    "        precision = 0.235\n",
    "        recall = 0.0079"
   ]
  },
  {
   "cell_type": "markdown",
   "metadata": {},
   "source": [
    "## Model Building - SVM, KNN, DT, RF, Gradient Boosting, AdaBoosting etc\n",
    "\n",
    "For all the algorithms mentioned above, perform below mentioned steps.\n",
    "\n",
    "**To Do:**\n",
    "1. Perform appropriate Hyperparameter Tuning\n",
    "2. Train the Model using `Accuracy` as the evaluation metric\n",
    "3. Predict\n",
    "4. Evaluate\n",
    "5. Use Accuracy, Confusion Matrix, Precision & Recall, F1-score and ROC AUC to understand model performance\n",
    "6. Compare the perormance of all the models"
   ]
  },
  {
   "cell_type": "markdown",
   "metadata": {},
   "source": [
    "# svm"
   ]
  },
  {
   "cell_type": "code",
   "execution_count": 61,
   "metadata": {},
   "outputs": [
    {
     "name": "stdout",
     "output_type": "stream",
     "text": [
      "Model : SVC()\n",
      "\n",
      "for test:\n",
      "SVC with rbf Kernel Model Accuracy :  0.423\n",
      "\n"
     ]
    },
    {
     "data": {
      "text/plain": [
       "array([[ 488,  147],\n",
       "       [1007,  358]])"
      ]
     },
     "execution_count": 61,
     "metadata": {},
     "output_type": "execute_result"
    }
   ],
   "source": [
    "from sklearn import svm\n",
    "\n",
    "#linear_svc = svm.SVC(kernel='linear').fit(X_train_smote,y_train_smote)\n",
    "rbf_svc = svm.SVC(kernel = 'rbf').fit(X_train_smote,y_train_smote)\n",
    "#poly_svc = svm.SVC(kernal = 'poly').fit(X_train_smote,y_train_smote)\n",
    "#Lin_svc = svm.LinearSVC(C=0.1).fit(X_train_smote,y_train_smote)\n",
    "\n",
    "#kernels = ['SVC with Linear Kernel', 'SVC with RBF Kernel', 'SVC with Poly kernel', 'Linear SVC']\n",
    "\n",
    "y_pred_for_svm = rbf_svc.predict(X_test)\n",
    "\n",
    "print('Model :', rbf_svc)\n",
    "\n",
    "print('')\n",
    "\n",
    "print('for test:')\n",
    "      \n",
    "print('SVC with rbf Kernel Model Accuracy : ', accuracy_score(y_pred_for_svm,y_test))\n",
    "\n",
    "print('')\n",
    "\n",
    "confusion_matrix(y_pred_for_svm,y_test)\n"
   ]
  },
  {
   "cell_type": "markdown",
   "metadata": {},
   "source": [
    "# hyper- parameter tuning for svm"
   ]
  },
  {
   "cell_type": "code",
   "execution_count": 63,
   "metadata": {},
   "outputs": [
    {
     "data": {
      "text/plain": [
       "GridSearchCV(cv=RepeatedStratifiedKFold(n_repeats=3, n_splits=10, random_state=1),\n",
       "             error_score=0, estimator=LogisticRegression(), n_jobs=-1,\n",
       "             param_grid={'C': [100, 10, 1.0, 0.1, 0.01], 'penalty': ['l2'],\n",
       "                         'solver': ['liblinear']},\n",
       "             scoring='accuracy')"
      ]
     },
     "execution_count": 63,
     "metadata": {},
     "output_type": "execute_result"
    }
   ],
   "source": [
    "from sklearn.svm import SVC\n",
    "from sklearn.model_selection import GridSearchCV\n",
    "\n",
    "param_grid = {'C': [0.1, 1, 10],\n",
    "             'gamma ' : [1, 0.1, 0.01],\n",
    "             'kernel' : ['rbf']\n",
    "             }\n",
    "grid_seach = GridSearchCV(SVC(), param_grid, refit = True)\n",
    "\n",
    "grid_search.fit(X_train_smote,y_train_smote)\n"
   ]
  },
  {
   "cell_type": "code",
   "execution_count": 64,
   "metadata": {},
   "outputs": [
    {
     "name": "stdout",
     "output_type": "stream",
     "text": [
      "{'C': 10, 'penalty': 'l2', 'solver': 'liblinear'}\n",
      "LogisticRegression(C=10, solver='liblinear')\n"
     ]
    }
   ],
   "source": [
    "# print best parameter after tuning\n",
    "print(grid_search.best_params_)\n",
    "  \n",
    "# print how our model looks after hyper-parameter tuning\n",
    "print(grid_search.best_estimator_)"
   ]
  },
  {
   "cell_type": "markdown",
   "metadata": {},
   "source": [
    "## model building"
   ]
  },
  {
   "cell_type": "code",
   "execution_count": 69,
   "metadata": {},
   "outputs": [],
   "source": [
    "rbf_svc2 = grid_search.best_estimator_\n",
    "rbf_svc2.fit(X_train_smote,y_train_smote)\n",
    "y_pred_for_svm2 = rbf_svc2.predict(X_test)\n"
   ]
  },
  {
   "cell_type": "code",
   "execution_count": 73,
   "metadata": {},
   "outputs": [
    {
     "name": "stdout",
     "output_type": "stream",
     "text": [
      "SVM Test set accuracy :  0.7475\n"
     ]
    }
   ],
   "source": [
    "#grid_predictions = grid.predict(X_test)\n",
    "  \n",
    "print('SVM Test set accuracy : ', accuracy_score(y_test, y_pred_for_svm2))    \n"
   ]
  },
  {
   "cell_type": "code",
   "execution_count": null,
   "metadata": {},
   "outputs": [],
   "source": []
  },
  {
   "cell_type": "markdown",
   "metadata": {},
   "source": [
    "# KNN"
   ]
  },
  {
   "cell_type": "code",
   "execution_count": 74,
   "metadata": {},
   "outputs": [
    {
     "name": "stdout",
     "output_type": "stream",
     "text": [
      "Model: KNeighborsClassifier()\n",
      "\n",
      "for test:\n",
      "KNeighborsClassifier Model Accuracy :  0.528\n",
      "\n"
     ]
    },
    {
     "data": {
      "text/plain": [
       "array([[847, 296],\n",
       "       [648, 209]])"
      ]
     },
     "execution_count": 74,
     "metadata": {},
     "output_type": "execute_result"
    }
   ],
   "source": [
    "#KNN also a used for Regression Technique. i hope it will help to find Prediction with best accuracy\n",
    "\n",
    "#Import Libaries\n",
    "\n",
    "from sklearn.neighbors import KNeighborsClassifier\n",
    "from sklearn import metrics\n",
    "knn = KNeighborsClassifier()\n",
    "\n",
    "\n",
    "knn.fit(X_train_smote,y_train_smote)\n",
    "\n",
    "y_pred_for_knn = knn.predict(X_test)\n",
    "\n",
    "print('Model:', knn)\n",
    "\n",
    "print('')\n",
    "print('for test:')\n",
    "      \n",
    "print('KNeighborsClassifier Model Accuracy : ', accuracy_score(y_pred_for_knn,y_test))\n",
    "\n",
    "print('')\n",
    "\n",
    "confusion_matrix(y_pred_for_knn,y_test)"
   ]
  },
  {
   "cell_type": "code",
   "execution_count": 75,
   "metadata": {},
   "outputs": [
    {
     "name": "stdout",
     "output_type": "stream",
     "text": [
      "recall_score_for_knn :  0.41386138613861384\n",
      "\n",
      "precision_score_for_knn :  0.24387397899649943\n",
      "\n",
      "              precision    recall  f1-score   support\n",
      "\n",
      "           0       0.57      0.74      0.64      1143\n",
      "           1       0.41      0.24      0.31       857\n",
      "\n",
      "    accuracy                           0.53      2000\n",
      "   macro avg       0.49      0.49      0.47      2000\n",
      "weighted avg       0.50      0.53      0.50      2000\n",
      "\n",
      "auc :  0.49020828504255104\n"
     ]
    }
   ],
   "source": [
    "from sklearn.metrics import recall_score\n",
    "print('recall_score_for_knn : ',recall_score(y_test, y_pred_for_knn))\n",
    "\n",
    "print('')\n",
    "\n",
    "from sklearn.metrics import precision_score\n",
    "print('precision_score_for_knn : ',precision_score(y_test, y_pred_for_knn))\n",
    "\n",
    "print('')\n",
    "\n",
    "print(classification_report(y_pred_for_knn,y_test))\n",
    "\n",
    "#ROC (Receiver Operating Characteristics)\n",
    "from sklearn.metrics import roc_curve\n",
    "[FPR,TPR,THR] = roc_curve(y_test,y_pred_for_knn)\n",
    "\n",
    "#auc = Area Under Curve\n",
    "from sklearn.metrics import auc\n",
    "print('auc : ' ,auc(FPR,TPR))\n",
    "\n"
   ]
  },
  {
   "cell_type": "markdown",
   "metadata": {},
   "source": [
    "# Hyper-Parameter tuning for knn"
   ]
  },
  {
   "cell_type": "markdown",
   "metadata": {},
   "source": [
    "# --\n",
    "    n_neighbors: Decide the best k based on the values we have computed earlier.\n",
    "    \n",
    "    weights: Check whether adding weights to the data points is beneficial to the model or not. 'uniform' assigns no weight, while 'distance' weighs points by the inverse of their distances meaning nearer points will have more weight than the farther points.\n",
    "    \n",
    "    metric: The distance metric to be used will calculating the similarity."
   ]
  },
  {
   "cell_type": "code",
   "execution_count": 76,
   "metadata": {},
   "outputs": [
    {
     "data": {
      "text/plain": [
       "GridSearchCV(cv=3, estimator=KNeighborsClassifier(),\n",
       "             param_grid={'metric': ['minkowski', 'euclidean', 'manhattan'],\n",
       "                         'n_neighbors': [5, 7, 9, 11],\n",
       "                         'weights': ['uniform', 'distance']})"
      ]
     },
     "execution_count": 76,
     "metadata": {},
     "output_type": "execute_result"
    }
   ],
   "source": [
    "from sklearn.model_selection import GridSearchCV\n",
    "\n",
    "grid_params = { 'n_neighbors' : [5,7,9,11],\n",
    "               'weights' : ['uniform','distance'],\n",
    "               'metric' : ['minkowski','euclidean','manhattan']\n",
    "              }\n",
    "\n",
    "grid_search_for_knn = GridSearchCV(KNeighborsClassifier(), grid_params , cv=3)\n",
    "\n",
    "# fit the model on our train set\n",
    "#grid_result\n",
    "grid_search_for_knn.fit(X_train_smote,y_train_smote)"
   ]
  },
  {
   "cell_type": "code",
   "execution_count": 77,
   "metadata": {},
   "outputs": [
    {
     "name": "stdout",
     "output_type": "stream",
     "text": [
      "best score:  0.7150906849797499\n",
      "\n",
      "best parameters for knn :  {'metric': 'manhattan', 'n_neighbors': 5, 'weights': 'distance'}\n"
     ]
    }
   ],
   "source": [
    "# find the best score\n",
    "print('best score: ',grid_search_for_knn.best_score_)\n",
    "\n",
    "print('')\n",
    "\n",
    "# get the hyperparameters with the best score\n",
    "print('best parameters for knn : ',grid_search_for_knn.best_params_)"
   ]
  },
  {
   "cell_type": "markdown",
   "metadata": {},
   "source": [
    "# model evaluation"
   ]
  },
  {
   "cell_type": "code",
   "execution_count": 80,
   "metadata": {},
   "outputs": [],
   "source": [
    "# use the best hyperparameters\n",
    "\n",
    "knn2 = KNeighborsClassifier(n_neighbors = 5, weights = 'distance' ,metric = 'manhattan')\n",
    "\n",
    "#knn2 = grid_search_for_knn.best_params_\n",
    "\n",
    "knn2.fit(X_train_smote,y_train_smote)\n",
    "\n",
    "# get a prediction\n",
    "y_hat_knn2 = knn2.predict(X_train_smote)\n",
    "\n",
    "y_pred_for_knn2 = knn2.predict(X_test)"
   ]
  },
  {
   "cell_type": "code",
   "execution_count": 81,
   "metadata": {},
   "outputs": [
    {
     "name": "stdout",
     "output_type": "stream",
     "text": [
      "Test set accuracy :  0.534\n",
      "\n",
      "[[854 641]\n",
      " [291 214]]\n",
      "\n",
      "recall_score_for_knn2 :  0.42376237623762375\n",
      "\n",
      "precision_score_for_knn2 :  0.25029239766081873\n"
     ]
    }
   ],
   "source": [
    "#print('Training set accuracy: ', metrics.accuracy_score(y_train_smote, y_hat_knn2))\n",
    "print('Test set accuracy : ', accuracy_score(y_pred_for_knn2, y_test))\n",
    "\n",
    "print('')\n",
    "\n",
    "from sklearn.metrics import confusion_matrix\n",
    "print(confusion_matrix(y_test, y_pred_for_knn2))\n",
    "\n",
    "print('')\n",
    "from sklearn.metrics import recall_score\n",
    "print('recall_score_for_knn2 : ',recall_score(y_test, y_pred_for_knn2))\n",
    "\n",
    "print('')\n",
    "\n",
    "from sklearn.metrics import precision_score\n",
    "print('precision_score_for_knn2 : ',precision_score(y_test, y_pred_for_knn2))\n"
   ]
  },
  {
   "cell_type": "markdown",
   "metadata": {},
   "source": [
    "# DECISION TREE"
   ]
  },
  {
   "cell_type": "code",
   "execution_count": 82,
   "metadata": {},
   "outputs": [
    {
     "name": "stdout",
     "output_type": "stream",
     "text": [
      "DecisionTreeClassifier()\n",
      "\n",
      "for test:\n",
      "DecisionTreeClassifier Model Accuracy :  0.632\n"
     ]
    },
    {
     "data": {
      "text/plain": [
       "array([[1098,  339],\n",
       "       [ 397,  166]])"
      ]
     },
     "execution_count": 82,
     "metadata": {},
     "output_type": "execute_result"
    }
   ],
   "source": [
    "# decision tree\n",
    "\n",
    "from sklearn.tree import DecisionTreeClassifier\n",
    "decision_tree = DecisionTreeClassifier()\n",
    "\n",
    "\n",
    "decision_tree.fit(X_train_smote,y_train_smote)\n",
    "\n",
    "y_pred_for_DT = decision_tree.predict(X_test)\n",
    "\n",
    "from sklearn.metrics import accuracy_score\n",
    "\n",
    "print(decision_tree)\n",
    "\n",
    "print('')\n",
    "\n",
    "print('for test:', )\n",
    "\n",
    "print('DecisionTreeClassifier Model Accuracy : ', accuracy_score(y_pred_for_DT,y_test))\n",
    "\n",
    "confusion_matrix(y_pred_for_DT,y_test)\n"
   ]
  },
  {
   "cell_type": "code",
   "execution_count": 83,
   "metadata": {},
   "outputs": [
    {
     "name": "stdout",
     "output_type": "stream",
     "text": [
      "recall_score_for_DT :  0.3287128712871287\n",
      "\n",
      "precision_score_for_DT :  0.29484902309058614\n",
      "\n",
      "              precision    recall  f1-score   support\n",
      "\n",
      "           0       0.73      0.76      0.75      1437\n",
      "           1       0.33      0.29      0.31       563\n",
      "\n",
      "    accuracy                           0.63      2000\n",
      "   macro avg       0.53      0.53      0.53      2000\n",
      "weighted avg       0.62      0.63      0.63      2000\n",
      "\n",
      "auc :  0.5315805159111229\n"
     ]
    }
   ],
   "source": [
    "from sklearn.metrics import recall_score\n",
    "print('recall_score_for_DT : ',recall_score(y_test, y_pred_for_DT))\n",
    "\n",
    "print('')\n",
    "\n",
    "from sklearn.metrics import precision_score\n",
    "print('precision_score_for_DT : ',precision_score(y_test, y_pred_for_DT))\n",
    "\n",
    "print('')\n",
    "\n",
    "print(classification_report(y_pred_for_DT,y_test))\n",
    "\n",
    "#ROC (Receiver Operating Characteristics)\n",
    "from sklearn.metrics import roc_curve\n",
    "[FPR,TPR,THR] = roc_curve(y_test,y_pred_for_DT)\n",
    "\n",
    "#auc = Area Under Curve\n",
    "from sklearn.metrics import auc\n",
    "print('auc : ' ,auc(FPR,TPR))\n"
   ]
  },
  {
   "cell_type": "markdown",
   "metadata": {},
   "source": [
    "# hyper parameter tuning for DT"
   ]
  },
  {
   "cell_type": "markdown",
   "metadata": {},
   "source": [
    "# --\n",
    "    max_depth\n",
    "    min_samples_leaf\n",
    "    criterion : [\"gini\", \"entropy\"]\n",
    "    min_impurity_split"
   ]
  },
  {
   "cell_type": "code",
   "execution_count": 84,
   "metadata": {},
   "outputs": [
    {
     "name": "stdout",
     "output_type": "stream",
     "text": [
      "DecisionTreeClassifier()\n",
      "\n"
     ]
    }
   ],
   "source": [
    "###\n",
    "from scipy.stats import randint\n",
    "from sklearn.tree import DecisionTreeClassifier\n",
    "from sklearn.model_selection import GridSearchCV\n",
    "  \n",
    "# Creating the hyperparameter grid \n",
    "param_dist = {\"max_depth\": [2,3,5,10,20],\n",
    "              \"min_samples_leaf\": [1, 2 ,5 ,9],\n",
    "              \"criterion\": [\"gini\", \"entropy\"]\n",
    "             }\n",
    "  \n",
    "# Instantiating Decision Tree classifier\n",
    "decision_tree = DecisionTreeClassifier()\n",
    "print(decision_tree)\n",
    "\n",
    "print('')\n",
    "\n",
    "  \n",
    "grid_Search = GridSearchCV(decision_tree, param_dist, cv = 3)\n",
    "\n",
    "grid_model = grid_Search.fit(X_train_smote,y_train_smote)\n"
   ]
  },
  {
   "cell_type": "code",
   "execution_count": 85,
   "metadata": {},
   "outputs": [
    {
     "name": "stdout",
     "output_type": "stream",
     "text": [
      "best score:  0.7346363796443036\n",
      "\n",
      "best parameters for DT :  {'criterion': 'entropy', 'max_depth': 10, 'min_samples_leaf': 1}\n"
     ]
    }
   ],
   "source": [
    "# find the best score\n",
    "print('best score: ',grid_model.best_score_)\n",
    "\n",
    "print('')\n",
    "\n",
    "# get the hyperparameters with the best params/estimator same\n",
    "print('best parameters for DT : ',grid_model.best_params_)"
   ]
  },
  {
   "cell_type": "code",
   "execution_count": 86,
   "metadata": {},
   "outputs": [
    {
     "name": "stdout",
     "output_type": "stream",
     "text": [
      "DecisionTreeClassifier Model Accuracy :  0.693\n",
      "\n",
      "recall_score_for_DT2 :  0.13267326732673268\n",
      "\n",
      "precision_score_for_DT2 :  0.2757201646090535\n"
     ]
    }
   ],
   "source": [
    "\n",
    "\n",
    "# With the Best HyperTunning Parameter\n",
    "dt2 = grid_model.best_estimator_\n",
    "\n",
    "#dt = DecisionTreeClassifier(max_depth=10, min_samples_leaf=5, random_state=42)\n",
    "dt2.fit(X_train_smote,y_train_smote)\n",
    "\n",
    "y_pred_FOR_DT2 = dt2.predict(X_test)\n",
    "\n",
    "print('DecisionTreeClassifier Model Accuracy : ', accuracy_score(y_pred_FOR_DT2,y_test))\n",
    "\n",
    "print('')\n",
    "\n",
    "from sklearn.metrics import recall_score\n",
    "print('recall_score_for_DT2 : ',recall_score(y_test, y_pred_FOR_DT2))\n",
    "\n",
    "print('')\n",
    "\n",
    "from sklearn.metrics import precision_score\n",
    "print('precision_score_for_DT2 : ',precision_score(y_test, y_pred_FOR_DT2))"
   ]
  },
  {
   "cell_type": "code",
   "execution_count": null,
   "metadata": {},
   "outputs": [],
   "source": []
  },
  {
   "cell_type": "markdown",
   "metadata": {},
   "source": [
    "# RANDOM FOREST"
   ]
  },
  {
   "cell_type": "code",
   "execution_count": 87,
   "metadata": {},
   "outputs": [
    {
     "name": "stdout",
     "output_type": "stream",
     "text": [
      "RandomForestClassifier(n_estimators=10)\n",
      "\n",
      "for test:\n",
      "RandomForestClassifier Model Accuracy :  0.7085\n"
     ]
    },
    {
     "data": {
      "text/plain": [
       "array([[1357,  445],\n",
       "       [ 138,   60]])"
      ]
     },
     "execution_count": 87,
     "metadata": {},
     "output_type": "execute_result"
    }
   ],
   "source": [
    "from sklearn.ensemble import RandomForestClassifier\n",
    "Random_Forest = RandomForestClassifier(n_estimators=10)\n",
    "\n",
    "\n",
    "Random_Forest.fit(X_train_smote,y_train_smote)\n",
    "\n",
    "y_pred_for_RF = Random_Forest.predict(X_test)\n",
    "\n",
    "print( Random_Forest)\n",
    "\n",
    "print('')\n",
    "print('for test:')\n",
    "\n",
    "print('RandomForestClassifier Model Accuracy : ', accuracy_score(y_pred_for_RF,y_test))\n",
    "\n",
    "confusion_matrix(y_pred_for_RF,y_test)"
   ]
  },
  {
   "cell_type": "code",
   "execution_count": 88,
   "metadata": {},
   "outputs": [
    {
     "name": "stdout",
     "output_type": "stream",
     "text": [
      "recall_score_for_RF :  0.1188118811881188\n",
      "\n",
      "precision_score_for_RF :  0.30303030303030304\n",
      "\n",
      "              precision    recall  f1-score   support\n",
      "\n",
      "           0       0.75      0.91      0.82      1495\n",
      "           1       0.30      0.12      0.17       505\n",
      "\n",
      "    accuracy                           0.71      2000\n",
      "   macro avg       0.53      0.51      0.50      2000\n",
      "weighted avg       0.64      0.71      0.66      2000\n",
      "\n",
      "auc :  0.5132520944402134\n"
     ]
    }
   ],
   "source": [
    "from sklearn.metrics import recall_score\n",
    "print('recall_score_for_RF : ',recall_score(y_test, y_pred_for_RF))\n",
    "\n",
    "print('')\n",
    "\n",
    "from sklearn.metrics import precision_score\n",
    "print('precision_score_for_RF : ',precision_score(y_test, y_pred_for_RF))\n",
    "\n",
    "print('')\n",
    "\n",
    "print(classification_report(y_test, y_pred_for_RF))\n",
    "\n",
    "#ROC (Receiver Operating Characteristics)\n",
    "from sklearn.metrics import roc_curve\n",
    "[FPR,TPR,THR] = roc_curve(y_test,y_pred_for_RF)\n",
    "\n",
    "#auc = Area Under Curve\n",
    "from sklearn.metrics import auc\n",
    "print('auc : ' ,auc(FPR,TPR))\n"
   ]
  },
  {
   "cell_type": "markdown",
   "metadata": {},
   "source": [
    "# hyper-parameter tuning for random_forest"
   ]
  },
  {
   "cell_type": "markdown",
   "metadata": {},
   "source": [
    "# --\n",
    "used hyper parameters:\n",
    "\n",
    "    1.max_depth\n",
    "    2.min_sample_split\n",
    "    3.max_leaf_nodes\n",
    "    4.min_samples_leaf\n",
    "    5.n_estimators\n",
    "    6.max_sample (bootstrap sample)\n",
    "    7.max_features (auto, sqrt)\n",
    "    "
   ]
  },
  {
   "cell_type": "code",
   "execution_count": 72,
   "metadata": {},
   "outputs": [
    {
     "data": {
      "text/plain": [
       "{'bootstrap': True,\n",
       " 'ccp_alpha': 0.0,\n",
       " 'class_weight': None,\n",
       " 'criterion': 'gini',\n",
       " 'max_depth': None,\n",
       " 'max_features': 'auto',\n",
       " 'max_leaf_nodes': None,\n",
       " 'max_samples': None,\n",
       " 'min_impurity_decrease': 0.0,\n",
       " 'min_impurity_split': None,\n",
       " 'min_samples_leaf': 1,\n",
       " 'min_samples_split': 2,\n",
       " 'min_weight_fraction_leaf': 0.0,\n",
       " 'n_estimators': 100,\n",
       " 'n_jobs': None,\n",
       " 'oob_score': False,\n",
       " 'random_state': None,\n",
       " 'verbose': 0,\n",
       " 'warm_start': False}"
      ]
     },
     "execution_count": 72,
     "metadata": {},
     "output_type": "execute_result"
    }
   ],
   "source": [
    "from sklearn.ensemble import RandomForestClassifier\n",
    "Random_Forest = RandomForestClassifier()\n",
    "Random_Forest.get_params()\n",
    "\n"
   ]
  },
  {
   "cell_type": "code",
   "execution_count": 89,
   "metadata": {},
   "outputs": [
    {
     "data": {
      "text/plain": [
       "{'n_estimators': [1, 10, 100, 200, 400, 1000],\n",
       " 'max_features': ['auto', 'sqrt'],\n",
       " 'max_depth': [3, 6, 10],\n",
       " 'min_samples_leaf': [1, 2, 4, 10]}"
      ]
     },
     "execution_count": 89,
     "metadata": {},
     "output_type": "execute_result"
    }
   ],
   "source": [
    "\n",
    "from sklearn.model_selection import RandomizedSearchCV\n",
    "\n",
    "n_estimators = [1,10,100,200,400,1000] #1tree, 10 tree, 100 tree.....\n",
    "max_features = ['auto', 'sqrt']\n",
    "max_depth = [3,6,10]\n",
    "min_samples_leaf = [1,2,4,10]\n",
    "\n",
    "random_grid = {'n_estimators': n_estimators,\n",
    "               'max_features':max_features,\n",
    "               'max_depth':max_depth,\n",
    "               'min_samples_leaf':min_samples_leaf\n",
    "}\n",
    "random_grid\n",
    "\n",
    "\n"
   ]
  },
  {
   "cell_type": "code",
   "execution_count": 90,
   "metadata": {
    "scrolled": true
   },
   "outputs": [
    {
     "name": "stdout",
     "output_type": "stream",
     "text": [
      "Fitting 3 folds for each of 10 candidates, totalling 30 fits\n",
      "[CV] END max_depth=10, max_features=auto, min_samples_leaf=1, n_estimators=1000; total time=   6.9s\n",
      "[CV] END max_depth=10, max_features=auto, min_samples_leaf=1, n_estimators=1000; total time=   7.1s\n",
      "[CV] END max_depth=10, max_features=auto, min_samples_leaf=1, n_estimators=1000; total time=   6.8s\n",
      "[CV] END max_depth=6, max_features=sqrt, min_samples_leaf=4, n_estimators=10; total time=   0.1s\n",
      "[CV] END max_depth=6, max_features=sqrt, min_samples_leaf=4, n_estimators=10; total time=   0.1s\n",
      "[CV] END max_depth=6, max_features=sqrt, min_samples_leaf=4, n_estimators=10; total time=   0.1s\n",
      "[CV] END max_depth=6, max_features=sqrt, min_samples_leaf=10, n_estimators=100; total time=   0.5s\n",
      "[CV] END max_depth=6, max_features=sqrt, min_samples_leaf=10, n_estimators=100; total time=   0.5s\n",
      "[CV] END max_depth=6, max_features=sqrt, min_samples_leaf=10, n_estimators=100; total time=   0.5s\n",
      "[CV] END max_depth=6, max_features=sqrt, min_samples_leaf=10, n_estimators=1000; total time=   4.9s\n",
      "[CV] END max_depth=6, max_features=sqrt, min_samples_leaf=10, n_estimators=1000; total time=   4.9s\n",
      "[CV] END max_depth=6, max_features=sqrt, min_samples_leaf=10, n_estimators=1000; total time=   5.1s\n",
      "[CV] END max_depth=3, max_features=sqrt, min_samples_leaf=4, n_estimators=10; total time=   0.0s\n",
      "[CV] END max_depth=3, max_features=sqrt, min_samples_leaf=4, n_estimators=10; total time=   0.0s\n",
      "[CV] END max_depth=3, max_features=sqrt, min_samples_leaf=4, n_estimators=10; total time=   0.0s\n",
      "[CV] END max_depth=3, max_features=auto, min_samples_leaf=10, n_estimators=10; total time=   0.0s\n",
      "[CV] END max_depth=3, max_features=auto, min_samples_leaf=10, n_estimators=10; total time=   0.1s\n",
      "[CV] END max_depth=3, max_features=auto, min_samples_leaf=10, n_estimators=10; total time=   0.1s\n",
      "[CV] END max_depth=10, max_features=sqrt, min_samples_leaf=1, n_estimators=400; total time=   2.7s\n",
      "[CV] END max_depth=10, max_features=sqrt, min_samples_leaf=1, n_estimators=400; total time=   2.9s\n",
      "[CV] END max_depth=10, max_features=sqrt, min_samples_leaf=1, n_estimators=400; total time=   2.8s\n",
      "[CV] END max_depth=3, max_features=auto, min_samples_leaf=1, n_estimators=200; total time=   0.7s\n",
      "[CV] END max_depth=3, max_features=auto, min_samples_leaf=1, n_estimators=200; total time=   0.8s\n",
      "[CV] END max_depth=3, max_features=auto, min_samples_leaf=1, n_estimators=200; total time=   0.8s\n",
      "[CV] END max_depth=3, max_features=sqrt, min_samples_leaf=1, n_estimators=200; total time=   0.7s\n",
      "[CV] END max_depth=3, max_features=sqrt, min_samples_leaf=1, n_estimators=200; total time=   0.8s\n",
      "[CV] END max_depth=3, max_features=sqrt, min_samples_leaf=1, n_estimators=200; total time=   0.8s\n",
      "[CV] END max_depth=3, max_features=auto, min_samples_leaf=2, n_estimators=10; total time=   0.0s\n",
      "[CV] END max_depth=3, max_features=auto, min_samples_leaf=2, n_estimators=10; total time=   0.0s\n",
      "[CV] END max_depth=3, max_features=auto, min_samples_leaf=2, n_estimators=10; total time=   0.0s\n"
     ]
    },
    {
     "data": {
      "text/plain": [
       "RandomizedSearchCV(cv=3, estimator=RandomForestClassifier(n_estimators=10),\n",
       "                   param_distributions={'max_depth': [3, 6, 10],\n",
       "                                        'max_features': ['auto', 'sqrt'],\n",
       "                                        'min_samples_leaf': [1, 2, 4, 10],\n",
       "                                        'n_estimators': [1, 10, 100, 200, 400,\n",
       "                                                         1000]},\n",
       "                   verbose=2)"
      ]
     },
     "execution_count": 90,
     "metadata": {},
     "output_type": "execute_result"
    }
   ],
   "source": [
    "\n",
    "Random_Forest_randomgrid = RandomizedSearchCV(estimator = Random_Forest, param_distributions=random_grid, cv=3, verbose=2)\n",
    "Random_Forest_randomgrid.fit(X_train_smote, y_train_smote)\n"
   ]
  },
  {
   "cell_type": "code",
   "execution_count": 91,
   "metadata": {},
   "outputs": [
    {
     "name": "stdout",
     "output_type": "stream",
     "text": [
      "{'n_estimators': 1000, 'min_samples_leaf': 1, 'max_features': 'auto', 'max_depth': 10}\n",
      "\n",
      "0.7916006339144216\n"
     ]
    }
   ],
   "source": [
    "print(Random_Forest_randomgrid.best_params_)\n",
    "\n",
    "print('')\n",
    "\n",
    "print(Random_Forest_randomgrid.best_score_)"
   ]
  },
  {
   "cell_type": "code",
   "execution_count": 92,
   "metadata": {},
   "outputs": [
    {
     "name": "stdout",
     "output_type": "stream",
     "text": [
      " test_Accuarcy_for_RF2 :  70.55 %\n",
      "\n",
      "recall_score_for_RF2 :  0.08712871287128712\n",
      "\n",
      "precision_score_for_RF2 :  0.2558139534883721\n"
     ]
    }
   ],
   "source": [
    "Random_Forest_1 = RandomForestClassifier(n_estimators = 400 , min_samples_leaf=2 , max_features='auto', max_depth=6)\n",
    "Random_Forest_1.fit(X_train_smote, y_train_smote)\n",
    "y_pred_for_RF2 = Random_Forest_1.predict(X_test)\n",
    "\n",
    "print(' test_Accuarcy_for_RF2 : ',accuracy_score(y_test,y_pred_for_RF2)*100,'%')\n",
    "\n",
    "print('')\n",
    "\n",
    "print('recall_score_for_RF2 : ',recall_score(y_test, y_pred_for_RF2))\n",
    "\n",
    "print('')\n",
    "\n",
    "print('precision_score_for_RF2 : ',precision_score(y_test, y_pred_for_RF2))\n"
   ]
  },
  {
   "cell_type": "code",
   "execution_count": null,
   "metadata": {},
   "outputs": [],
   "source": [
    "TASK 5:\n",
    "    \n",
    "x,y\n",
    "\n",
    "smote for x&y \n",
    "\n",
    "train test for xy\n",
    "\n",
    "re"
   ]
  },
  {
   "cell_type": "markdown",
   "metadata": {},
   "source": [
    "# GradientBoostingClassifier"
   ]
  },
  {
   "cell_type": "code",
   "execution_count": 93,
   "metadata": {},
   "outputs": [
    {
     "name": "stdout",
     "output_type": "stream",
     "text": [
      "GradientBoostingClassifier()\n",
      "\n",
      "for test:\n",
      "GradientBoostingClassifier Model Accuracy :  0.7415\n"
     ]
    },
    {
     "data": {
      "text/plain": [
       "array([[1477,  499],\n",
       "       [  18,    6]])"
      ]
     },
     "execution_count": 93,
     "metadata": {},
     "output_type": "execute_result"
    }
   ],
   "source": [
    "from sklearn.ensemble import GradientBoostingClassifier\n",
    "\n",
    "Grad_Boosting = GradientBoostingClassifier()\n",
    "\n",
    "Grad_Boosting.fit(X_train_smote,y_train_smote)\n",
    "\n",
    "y_pred_for_GB = Grad_Boosting.predict(X_test)\n",
    "\n",
    "print( Grad_Boosting)\n",
    "\n",
    "print('')\n",
    "\n",
    "print('for test:')\n",
    "\n",
    "print('GradientBoostingClassifier Model Accuracy : ', accuracy_score(y_pred_for_GB,y_test))\n",
    "\n",
    "confusion_matrix(y_pred_for_GB,y_test)"
   ]
  },
  {
   "cell_type": "code",
   "execution_count": 94,
   "metadata": {},
   "outputs": [
    {
     "name": "stdout",
     "output_type": "stream",
     "text": [
      "recall_score_for_GB :  0.011881188118811881\n",
      "\n",
      "precision_score_for_GB :  0.25\n",
      "\n",
      "              precision    recall  f1-score   support\n",
      "\n",
      "           0       0.75      0.99      0.85      1495\n",
      "           1       0.25      0.01      0.02       505\n",
      "\n",
      "    accuracy                           0.74      2000\n",
      "   macro avg       0.50      0.50      0.44      2000\n",
      "weighted avg       0.62      0.74      0.64      2000\n",
      "\n",
      "auc :  0.49992052716977387\n"
     ]
    }
   ],
   "source": [
    "from sklearn.metrics import recall_score\n",
    "print('recall_score_for_GB : ',recall_score(y_test, y_pred_for_GB))\n",
    "\n",
    "print('')\n",
    "\n",
    "from sklearn.metrics import precision_score\n",
    "print('precision_score_for_GB : ',precision_score(y_test, y_pred_for_GB))\n",
    "\n",
    "print('')\n",
    "\n",
    "print(classification_report(y_test, y_pred_for_GB))\n",
    "\n",
    "#ROC (Receiver Operating Characteristics)\n",
    "from sklearn.metrics import roc_curve\n",
    "[FPR,TPR,THR] = roc_curve(y_test,y_pred_for_GB)\n",
    "\n",
    "#auc = Area Under Curve\n",
    "from sklearn.metrics import auc\n",
    "print('auc : ' ,auc(FPR,TPR))"
   ]
  },
  {
   "cell_type": "markdown",
   "metadata": {},
   "source": [
    "# Hyper-parameter tuning for Gradient Boosting"
   ]
  },
  {
   "cell_type": "markdown",
   "metadata": {},
   "source": [
    "# Used HyprParameter :\n",
    "    1.loss{‘deviance’, ‘exponential, friedman_mse’}\n",
    "    2.learning_rate : float\n",
    "    3.n_estimators : int\n",
    "    4.subsample : float\n",
    "    5.criterion : {‘friedman_mse’, ‘mse’, ‘mae’}\n",
    "    6.min_samples_split : int\n",
    "    7.min_samples_leaf : int\n",
    "    8.min_weight_fraction_leaf : float\n",
    "    9.min_impurity_decrease : float\n",
    "    10.max_death : int\n",
    "   "
   ]
  },
  {
   "cell_type": "code",
   "execution_count": 98,
   "metadata": {},
   "outputs": [
    {
     "name": "stdout",
     "output_type": "stream",
     "text": [
      "Fitting 3 folds for each of 60 candidates, totalling 180 fits\n",
      "Best Parameter :  GradientBoostingClassifier(learning_rate=6, min_impurity_decrease=0.2,\n",
      "                           n_estimators=10)\n"
     ]
    }
   ],
   "source": [
    "from sklearn.model_selection import GridSearchCV\n",
    "\n",
    "params = {\n",
    "            'learning_rate' : [2,4,6,8,10],\n",
    "            'n_estimators' : [10,20,30],\n",
    "            'min_impurity_decrease':[0.1,0.2,0.3,0.4]\n",
    "}\n",
    "\n",
    "grid_search = GridSearchCV(GradientBoostingClassifier() ,cv=3 ,param_grid=params ,n_jobs=-1 ,verbose=1)\n",
    "\n",
    "grid_search.fit(X_train_smote,y_train_smote)\n",
    "\n",
    "print('Best Parameter : ',grid_search.best_estimator_)\n"
   ]
  },
  {
   "cell_type": "code",
   "execution_count": 101,
   "metadata": {},
   "outputs": [
    {
     "name": "stdout",
     "output_type": "stream",
     "text": [
      "Best Score :  0.598256735340729\n",
      "\n",
      "GradientBoostingClassifier Model Accuracy :  0.301\n",
      "\n",
      "recall_score_for_GB2 :  0.9663366336633663\n",
      "\n",
      "precision_score_for_GB2 :  0.26110219368646337\n"
     ]
    }
   ],
   "source": [
    "print('Best Score : ',grid_search.best_score_)\n",
    "\n",
    "print('')\n",
    "\n",
    "# With the Best HyperTunning Parameter\n",
    "GB2 = grid_search.best_estimator_\n",
    "\n",
    "# MODEL BUILDING:\n",
    "\n",
    "GB2.fit(X_train_smote,y_train_smote)\n",
    "\n",
    "y_pred_FOR_GB2 = GB2.predict(X_test)\n",
    "\n",
    "print('GradientBoostingClassifier Model Accuracy : ', accuracy_score(y_pred_FOR_GB2,y_test))\n",
    "\n",
    "print('')\n",
    "\n",
    "print('recall_score_for_GB2 : ',recall_score(y_test, y_pred_FOR_GB2))\n",
    "\n",
    "print('')\n",
    "\n",
    "print('precision_score_for_GB2 : ',precision_score(y_test, y_pred_FOR_GB2))"
   ]
  },
  {
   "cell_type": "code",
   "execution_count": null,
   "metadata": {},
   "outputs": [],
   "source": []
  },
  {
   "cell_type": "markdown",
   "metadata": {},
   "source": [
    "# AdaBoostClassifier"
   ]
  },
  {
   "cell_type": "code",
   "execution_count": 102,
   "metadata": {},
   "outputs": [
    {
     "name": "stdout",
     "output_type": "stream",
     "text": [
      "AdaBoostClassifier()\n",
      "AdaBoostClassifier Model Accuracy :  0.714\n"
     ]
    },
    {
     "data": {
      "text/plain": [
       "array([[1393,  470],\n",
       "       [ 102,   35]])"
      ]
     },
     "execution_count": 102,
     "metadata": {},
     "output_type": "execute_result"
    }
   ],
   "source": [
    "from sklearn.ensemble import AdaBoostClassifier\n",
    "\n",
    "Ada_Boost = AdaBoostClassifier()\n",
    "Ada_Boost.fit(X_train_smote,y_train_smote)\n",
    "\n",
    "y_pred_for_AB = Ada_Boost.predict(X_test)\n",
    "\n",
    "print( Ada_Boost)\n",
    "\n",
    "print('AdaBoostClassifier Model Accuracy : ', accuracy_score(y_pred_for_AB,y_test))\n",
    "\n",
    "confusion_matrix(y_pred_for_AB,y_test)"
   ]
  },
  {
   "cell_type": "code",
   "execution_count": 103,
   "metadata": {},
   "outputs": [
    {
     "name": "stdout",
     "output_type": "stream",
     "text": [
      "recall_score_for_AB :  0.06930693069306931\n",
      "\n",
      "precision_score_for_AB :  0.25547445255474455\n",
      "\n",
      "              precision    recall  f1-score   support\n",
      "\n",
      "           0       0.75      0.93      0.83      1495\n",
      "           1       0.26      0.07      0.11       505\n",
      "\n",
      "    accuracy                           0.71      2000\n",
      "   macro avg       0.50      0.50      0.47      2000\n",
      "weighted avg       0.62      0.71      0.65      2000\n",
      "\n",
      "auc :  0.5005397529719527\n"
     ]
    }
   ],
   "source": [
    "from sklearn.metrics import recall_score\n",
    "print('recall_score_for_AB : ',recall_score(y_test, y_pred_for_AB))\n",
    "\n",
    "print('')\n",
    "\n",
    "from sklearn.metrics import precision_score\n",
    "print('precision_score_for_AB : ',precision_score(y_test, y_pred_for_AB))\n",
    "\n",
    "print('')\n",
    "\n",
    "print(classification_report(y_test, y_pred_for_AB))\n",
    "\n",
    "#ROC (Receiver Operating Characteristics)\n",
    "from sklearn.metrics import roc_curve\n",
    "[FPR,TPR,THR] = roc_curve(y_test,y_pred_for_AB)\n",
    "\n",
    "#auc = Area Under Curve\n",
    "from sklearn.metrics import auc\n",
    "\n",
    "\n",
    "print('auc : ' ,auc(FPR,TPR))"
   ]
  },
  {
   "cell_type": "markdown",
   "metadata": {},
   "source": [
    "# hyper-parameter tuning for Ada Boost"
   ]
  },
  {
   "cell_type": "markdown",
   "metadata": {},
   "source": [
    "--\n",
    "\n",
    "    An important hyperparameter for Adaboost is \"n_estimator\".\n",
    "    Often by changing the number of base models or weak learners we can adjust the accuracy of the model"
   ]
  },
  {
   "cell_type": "code",
   "execution_count": 104,
   "metadata": {},
   "outputs": [
    {
     "name": "stdout",
     "output_type": "stream",
     "text": [
      "Best Parameter :  AdaBoostClassifier(n_estimators=200)\n",
      "\n",
      "Best Score :  0.7997886951928157\n"
     ]
    }
   ],
   "source": [
    "from sklearn.model_selection import GridSearchCV\n",
    "\n",
    "Ada_Boost = AdaBoostClassifier()\n",
    "\n",
    "#Creating a grid of hyperparameters\n",
    "\n",
    "grid_params = {'n_estimators': [100,200,300]}\n",
    "\n",
    "#Building a 3 fold CV GridSearchCV object\n",
    "grid_search = GridSearchCV(estimator = Ada_Boost , param_grid = grid_params, scoring = 'accuracy', cv = 3, n_jobs = -1)\n",
    "\n",
    "#Fitting the grid to the training \n",
    "grid_search.fit(X_train_smote,y_train_smote)\n",
    "\n",
    "#Extracting the best parametersgrid_object.bestparams ...\n",
    "print('Best Parameter : ',grid_search.best_estimator_)\n",
    "\n",
    "print('')\n",
    "\n",
    "print('Best Score : ',grid_search.best_score_)"
   ]
  },
  {
   "cell_type": "markdown",
   "metadata": {},
   "source": [
    "# model building"
   ]
  },
  {
   "cell_type": "code",
   "execution_count": 105,
   "metadata": {},
   "outputs": [
    {
     "name": "stdout",
     "output_type": "stream",
     "text": [
      "AdaBoostClassifier Model Accuracy :  0.7405\n",
      "\n",
      "recall_score_for_AB2 :  0.033663366336633666\n",
      "\n",
      "precision_score_for_AB2 :  0.3541666666666667\n"
     ]
    }
   ],
   "source": [
    "\n",
    "# With the Best HyperTunning Parameter\n",
    "AB2 = grid_search.best_estimator_\n",
    "\n",
    "#dt = DecisionTreeClassifier(max_depth=10, min_samples_leaf=5, random_state=42)\n",
    "AB2.fit(X_train_smote,y_train_smote)\n",
    "\n",
    "y_pred_FOR_AB2 = AB2.predict(X_test)\n",
    "\n",
    "print('AdaBoostClassifier Model Accuracy : ', accuracy_score(y_pred_FOR_AB2,y_test))\n",
    "\n",
    "print('')\n",
    "\n",
    "from sklearn.metrics import recall_score\n",
    "print('recall_score_for_AB2 : ',recall_score(y_test, y_pred_FOR_AB2))\n",
    "\n",
    "print('')\n",
    "\n",
    "from sklearn.metrics import precision_score\n",
    "print('precision_score_for_AB2 : ',precision_score(y_test, y_pred_FOR_AB2))"
   ]
  },
  {
   "cell_type": "code",
   "execution_count": null,
   "metadata": {},
   "outputs": [],
   "source": []
  },
  {
   "cell_type": "markdown",
   "metadata": {},
   "source": [
    "# comparision"
   ]
  },
  {
   "cell_type": "code",
   "execution_count": 107,
   "metadata": {},
   "outputs": [
    {
     "name": "stdout",
     "output_type": "stream",
     "text": [
      "Logistic Regression Model Accuracy :  0.6\n",
      "KNeighborsClassifier Model Accuracy :  0.528\n",
      "DecisionTreeClassifier Model Accuracy :  0.632\n",
      "RandomForestClassifier Model Accuracy :  0.7085\n",
      "GradientBoostingClassifier Model Accuracy :  0.7415\n",
      "AdaBoostClassifier Model Accuracy :  0.714\n",
      "SVC with rbf Kernel Model Accuracy :  0.423\n"
     ]
    }
   ],
   "source": [
    "print('Logistic Regression Model Accuracy : ', accuracy_score(y_pred_for_log,y_test))\n",
    "\n",
    "print('KNeighborsClassifier Model Accuracy : ', accuracy_score(y_pred_for_knn,y_test))\n",
    "\n",
    "print('DecisionTreeClassifier Model Accuracy : ', accuracy_score(y_pred_for_DT,y_test))\n",
    "\n",
    "print('RandomForestClassifier Model Accuracy : ', accuracy_score(y_pred_for_RF,y_test))\n",
    "\n",
    "print('GradientBoostingClassifier Model Accuracy : ', accuracy_score(y_pred_for_GB,y_test))\n",
    "\n",
    "print('AdaBoostClassifier Model Accuracy : ', accuracy_score(y_pred_for_AB,y_test))\n",
    "\n",
    "print('SVC with rbf Kernel Model Accuracy : ', accuracy_score(y_pred_for_svm,y_test))"
   ]
  },
  {
   "cell_type": "code",
   "execution_count": 108,
   "metadata": {},
   "outputs": [
    {
     "data": {
      "image/png": "[encoded data removed]",
      "text/plain": [
       "<Figure size 720x360 with 1 Axes>"
      ]
     },
     "metadata": {
      "needs_background": "light"
     },
     "output_type": "display_data"
    }
   ],
   "source": [
    "\n",
    "import matplotlib.pyplot as plt\n",
    "import numpy as np\n",
    "\n",
    "x = np.array([\"Log_Reg\", \"knn\", \"Decision Tree\", \"Random forest\", \"GradientBoosting\", \"AdaBoost\", \"SVM-rbf\"])\n",
    "\n",
    "y = np.array([0.52, 0.52, 0.64 , 0.71 , 0.74, 0.73, 0.43])\n",
    "\n",
    "width = 0.3\n",
    "\n",
    "\n",
    "plt.figure(figsize=[10,5])\n",
    "\n",
    "plt.bar(x, y, width)\n",
    "\n",
    "plt.xlabel('Models')\n",
    "plt.ylabel('ACCURACY')\n",
    "\n",
    "plt.title('ACCURACY with Different Algorithms')\n",
    "\n",
    "plt.show()\n",
    "\n"
   ]
  },
  {
   "cell_type": "markdown",
   "metadata": {},
   "source": [
    "# --\n",
    "     The above graph tells that the models accuracy "
   ]
  },
  {
   "cell_type": "code",
   "execution_count": 110,
   "metadata": {},
   "outputs": [
    {
     "name": "stdout",
     "output_type": "stream",
     "text": [
      "Logistic Regression Model Accuracy AFTER HP :  0.7475\n",
      "KNeighborsClassifier Model Accuracy AFTER HP :  0.534\n",
      "DecisionTreeClassifier Model Accuracy AFTER HP :  0.693\n",
      "RandomForestClassifier Model Accuracy AFTER HP :  0.7055\n",
      "GradientBoostingClassifier Model Accuracy AFTER HP :  0.301\n",
      "AdaBoostClassifier Model Accuracy AFTER HP :  0.7405\n",
      "SVM with RBF Kernel  Accuracy AFTER HP :  0.7475\n"
     ]
    }
   ],
   "source": [
    "print('Logistic Regression Model Accuracy AFTER HP : ', accuracy_score(y_pred_for_log_reg2,y_test))\n",
    "\n",
    "print('KNeighborsClassifier Model Accuracy AFTER HP : ', accuracy_score(y_pred_for_knn2,y_test))\n",
    "\n",
    "print('DecisionTreeClassifier Model Accuracy AFTER HP : ', accuracy_score(y_pred_FOR_DT2,y_test))\n",
    "\n",
    "print('RandomForestClassifier Model Accuracy AFTER HP : ', accuracy_score(y_pred_for_RF2,y_test))\n",
    "\n",
    "print('GradientBoostingClassifier Model Accuracy AFTER HP : ', accuracy_score(y_pred_FOR_GB2,y_test))\n",
    " \n",
    "print('AdaBoostClassifier Model Accuracy AFTER HP : ', accuracy_score(y_pred_FOR_AB2,y_test))\n",
    "\n",
    "print('SVM with RBF Kernel  Accuracy AFTER HP : ', accuracy_score(y_test, y_pred_for_svm2))"
   ]
  },
  {
   "cell_type": "code",
   "execution_count": 117,
   "metadata": {},
   "outputs": [
    {
     "data": {
      "image/png": "[encoded data removed]",
      "text/plain": [
       "<Figure size 864x576 with 1 Axes>"
      ]
     },
     "metadata": {
      "needs_background": "light"
     },
     "output_type": "display_data"
    }
   ],
   "source": [
    "import matplotlib.pyplot as plt\n",
    "import numpy as np\n",
    "\n",
    "x = np.array([\"Log_Reg\", \"knn\", \"Decision Tree\", \"Random forest\", \"GradientBoosting\", \"AdaBoost\", \"SVM- rbf\"])\n",
    "\n",
    "y = np.array([0.74, 0.53, 0.711 , 0.71 , 0.75, 0.74, 0.75])\n",
    "\n",
    "width = 0.3\n",
    "\n",
    "\n",
    "plt.figure(figsize=[12,8])\n",
    "\n",
    "plt.bar(x, y, width)\n",
    "\n",
    "plt.xlabel('Models')\n",
    "plt.ylabel('ACCURACY')\n",
    "\n",
    "plt.title('ACCURACY with Different Algorithms AFTER performing hyper-parameters')\n",
    "\n",
    "plt.show()"
   ]
  },
  {
   "cell_type": "markdown",
   "metadata": {},
   "source": [
    "# -- \n",
    "    the above graph tells the models accuracy after performing hyper-parameters.."
   ]
  },
  {
   "cell_type": "code",
   "execution_count": 118,
   "metadata": {},
   "outputs": [
    {
     "data": {
      "image/png": "[encoded data removed]",
      "text/plain": [
       "<Figure size 936x576 with 1 Axes>"
      ]
     },
     "metadata": {
      "needs_background": "light"
     },
     "output_type": "display_data"
    }
   ],
   "source": [
    "import matplotlib.pyplot as plt\n",
    "import numpy as np\n",
    "\n",
    "\n",
    "models = [\"Log_Reg\", \"knn\", \"Decision Tree\", \"Random forest\", \"GradientBoosting\", \"AdaBoost\", \"SVM-rbf\"]\n",
    "\n",
    "acc_before = np.array([0.52, 0.52, 0.64 , 0.71 , 0.74, 0.73, 0.43])\n",
    "acc_after = np.array([0.74, 0.53, 0.711 , 0.71 , 0.75, 0.74, 0.75])\n",
    "\n",
    "\n",
    "x = np.arange(len(models))  # the label locations\n",
    "\n",
    "width = 0.35  # the width of the bars\n",
    "\n",
    "#fig, ax = plt.subplots()\n",
    "\n",
    "plt.figure(figsize=[13,8])\n",
    "\n",
    "\n",
    "rects1 = plt.bar(x - width/2, acc_before, width, label='acc_before')\n",
    "rects2 = plt.bar(x + width/2, acc_after, width, label='acc_after')\n",
    "\n",
    "# Add some text for labels, title and custom x-axis tick labels, etc.\n",
    "\n",
    "plt.title('ACCURACY of Different models BEFORE & AFTER performing Hyper-Parameters')\n",
    "\n",
    "plt.ylabel('accuracy')\n",
    "plt.xlabel('Models')\n",
    "#plt.xticks(x)\n",
    "plt.xlabel(models)\n",
    "\n",
    "plt.legend()\n",
    "\n",
    "plt.show()"
   ]
  },
  {
   "cell_type": "markdown",
   "metadata": {},
   "source": [
    "# --\n",
    "\n",
    "    As from above one \n",
    "        0 - logistic regression = acc of base model & acc after performing hyper-parameter\n",
    "        1 - knn = cc of base model & acc after performing hyper-parameter\n",
    "        2 - Decision Tree = acc of base model & acc after performing hyper-parameter\n",
    "        3 - Random Forest = acc of base model & acc after performing hyper-parameter\n",
    "        4 - Gradient Boosting = acc of base model & acc after performing hyper-parameter\n",
    "        5 - Ada Boosting = acc of base model & acc after performing hyper-parameter\n",
    "    \n",
    "    Here , \n",
    "    0. logistic reg = after performing the hyper-parameter this model is showing good accuracy..\n",
    "        before = 0.52 == 52 %\n",
    "        after = 0.74 == 74 %\n",
    "    \n",
    "    1. knn = there isn't much difference after performing hyper-parameter also \n",
    "        before = 0.51 == 52%\n",
    "        after = 0.53 == 53%\n",
    "        \n",
    "    2. Decision Tree = the acc is slightly increasing here \n",
    "        before = 0.64 == 64\n",
    "        afetr = 0.71 == 71\n",
    "        \n",
    "    3. Random Forest = there isn't much difference after performing hyper-parameter also\n",
    "        before = 0.713 == 71%\n",
    "        after = 0.74 == 72%\n",
    "        \n",
    "    4. Gradient Boosting = in this model the acc is greatly reduced i.e., the model is not performing well\n",
    "        before = 0.74 == 74%\n",
    "        after = 0.514 == 75%\n",
    "        \n",
    "    5. Ada Boost = there isn't much difference after performing hyper-parameter also\n",
    "        before = 0.73 == 73%\n",
    "        after = 0.74 == 74%\n",
    "        \n",
    "    6. SVM = there is lot of diff after performing the hyper-parameter this model is showing good accuracy.\n",
    "        before = 0.43 == 43 %\n",
    "        after = 0.75 == 75 %\n",
    "       "
   ]
  },
  {
   "cell_type": "markdown",
   "metadata": {},
   "source": [
    "# conclusion"
   ]
  },
  {
   "cell_type": "markdown",
   "metadata": {},
   "source": [
    "    Hyperparameters are important because they directly control the behaviour of the training model algorithm & have a significant impact on the performance of the model is being trained. ..."
   ]
  },
  {
   "cell_type": "markdown",
   "metadata": {},
   "source": [
    "# --\n",
    "    finally, we can tell ..\n",
    "    \n",
    "        logistic reg & svm has great increase in accuracy after performing hyper-parameter..\n",
    "        &\n",
    "        Random Forest ,Gradient Boosting & Ada Boost are good before and after performing the hyper-parameters..\n",
    "        "
   ]
  },
  {
   "cell_type": "markdown",
   "metadata": {},
   "source": [
    "# --\n",
    "    Random Forest , Gradient Boosting & Ada Boost are good models."
   ]
  },
  {
   "cell_type": "code",
   "execution_count": null,
   "metadata": {},
   "outputs": [],
   "source": []
  }
 ],
 "metadata": {
  "kernelspec": {
   "display_name": "Python 3",
   "language": "python",
   "name": "python3"
  },
  "language_info": {
   "codemirror_mode": {
    "name": "ipython",
    "version": 3
   },
   "file_extension": ".py",
   "mimetype": "text/x-python",
   "name": "python",
   "nbconvert_exporter": "python",
   "pygments_lexer": "ipython3",
   "version": "3.8.5"
  }
 },
 "nbformat": 4,
 "nbformat_minor": 5
}
